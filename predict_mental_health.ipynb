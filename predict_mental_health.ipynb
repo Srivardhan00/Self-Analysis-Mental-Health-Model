{
 "cells": [
  {
   "cell_type": "code",
   "execution_count": 1,
   "id": "4909f864-d833-48aa-891a-f8f796e28d50",
   "metadata": {},
   "outputs": [],
   "source": [
    "import numpy as np\n",
    "import pandas as pd\n",
    "import matplotlib.pyplot as plt\n",
    "import seaborn as sns\n",
    "%matplotlib inline\n",
    "\n",
    "import warnings\n",
    "warnings.filterwarnings('ignore')"
   ]
  },
  {
   "cell_type": "code",
   "execution_count": 2,
   "id": "ccd3fab6-f9a8-4c31-b2ff-bbaf64aabaa2",
   "metadata": {},
   "outputs": [],
   "source": [
    "df = pd.read_csv(r\"depression_anxiety_data.csv\")"
   ]
  },
  {
   "cell_type": "code",
   "execution_count": 3,
   "id": "f551566b-c10b-4fb0-8970-11256a0bd430",
   "metadata": {},
   "outputs": [
    {
     "data": {
      "text/html": [
       "<div>\n",
       "<style scoped>\n",
       "    .dataframe tbody tr th:only-of-type {\n",
       "        vertical-align: middle;\n",
       "    }\n",
       "\n",
       "    .dataframe tbody tr th {\n",
       "        vertical-align: top;\n",
       "    }\n",
       "\n",
       "    .dataframe thead th {\n",
       "        text-align: right;\n",
       "    }\n",
       "</style>\n",
       "<table border=\"1\" class=\"dataframe\">\n",
       "  <thead>\n",
       "    <tr style=\"text-align: right;\">\n",
       "      <th></th>\n",
       "      <th>id</th>\n",
       "      <th>school_year</th>\n",
       "      <th>age</th>\n",
       "      <th>gender</th>\n",
       "      <th>bmi</th>\n",
       "      <th>who_bmi</th>\n",
       "      <th>phq_score</th>\n",
       "      <th>depression_severity</th>\n",
       "      <th>depressiveness</th>\n",
       "      <th>suicidal</th>\n",
       "      <th>depression_diagnosis</th>\n",
       "      <th>depression_treatment</th>\n",
       "      <th>gad_score</th>\n",
       "      <th>anxiety_severity</th>\n",
       "      <th>anxiousness</th>\n",
       "      <th>anxiety_diagnosis</th>\n",
       "      <th>anxiety_treatment</th>\n",
       "      <th>epworth_score</th>\n",
       "      <th>sleepiness</th>\n",
       "    </tr>\n",
       "  </thead>\n",
       "  <tbody>\n",
       "    <tr>\n",
       "      <th>0</th>\n",
       "      <td>1</td>\n",
       "      <td>1</td>\n",
       "      <td>19</td>\n",
       "      <td>male</td>\n",
       "      <td>33.333333</td>\n",
       "      <td>Class I Obesity</td>\n",
       "      <td>9</td>\n",
       "      <td>Mild</td>\n",
       "      <td>False</td>\n",
       "      <td>False</td>\n",
       "      <td>False</td>\n",
       "      <td>False</td>\n",
       "      <td>11</td>\n",
       "      <td>Moderate</td>\n",
       "      <td>True</td>\n",
       "      <td>False</td>\n",
       "      <td>False</td>\n",
       "      <td>7.0</td>\n",
       "      <td>False</td>\n",
       "    </tr>\n",
       "    <tr>\n",
       "      <th>1</th>\n",
       "      <td>2</td>\n",
       "      <td>1</td>\n",
       "      <td>18</td>\n",
       "      <td>male</td>\n",
       "      <td>19.841270</td>\n",
       "      <td>Normal</td>\n",
       "      <td>8</td>\n",
       "      <td>Mild</td>\n",
       "      <td>False</td>\n",
       "      <td>False</td>\n",
       "      <td>False</td>\n",
       "      <td>False</td>\n",
       "      <td>5</td>\n",
       "      <td>Mild</td>\n",
       "      <td>False</td>\n",
       "      <td>False</td>\n",
       "      <td>False</td>\n",
       "      <td>14.0</td>\n",
       "      <td>True</td>\n",
       "    </tr>\n",
       "    <tr>\n",
       "      <th>2</th>\n",
       "      <td>3</td>\n",
       "      <td>1</td>\n",
       "      <td>19</td>\n",
       "      <td>male</td>\n",
       "      <td>25.102391</td>\n",
       "      <td>Overweight</td>\n",
       "      <td>8</td>\n",
       "      <td>Mild</td>\n",
       "      <td>False</td>\n",
       "      <td>False</td>\n",
       "      <td>False</td>\n",
       "      <td>False</td>\n",
       "      <td>6</td>\n",
       "      <td>Mild</td>\n",
       "      <td>False</td>\n",
       "      <td>False</td>\n",
       "      <td>False</td>\n",
       "      <td>6.0</td>\n",
       "      <td>False</td>\n",
       "    </tr>\n",
       "    <tr>\n",
       "      <th>3</th>\n",
       "      <td>4</td>\n",
       "      <td>1</td>\n",
       "      <td>18</td>\n",
       "      <td>female</td>\n",
       "      <td>23.738662</td>\n",
       "      <td>Normal</td>\n",
       "      <td>19</td>\n",
       "      <td>Moderately severe</td>\n",
       "      <td>True</td>\n",
       "      <td>True</td>\n",
       "      <td>False</td>\n",
       "      <td>False</td>\n",
       "      <td>15</td>\n",
       "      <td>Severe</td>\n",
       "      <td>True</td>\n",
       "      <td>False</td>\n",
       "      <td>False</td>\n",
       "      <td>11.0</td>\n",
       "      <td>True</td>\n",
       "    </tr>\n",
       "    <tr>\n",
       "      <th>4</th>\n",
       "      <td>5</td>\n",
       "      <td>1</td>\n",
       "      <td>18</td>\n",
       "      <td>male</td>\n",
       "      <td>25.617284</td>\n",
       "      <td>Overweight</td>\n",
       "      <td>6</td>\n",
       "      <td>Mild</td>\n",
       "      <td>False</td>\n",
       "      <td>False</td>\n",
       "      <td>False</td>\n",
       "      <td>False</td>\n",
       "      <td>14</td>\n",
       "      <td>Moderate</td>\n",
       "      <td>True</td>\n",
       "      <td>False</td>\n",
       "      <td>False</td>\n",
       "      <td>3.0</td>\n",
       "      <td>False</td>\n",
       "    </tr>\n",
       "  </tbody>\n",
       "</table>\n",
       "</div>"
      ],
      "text/plain": [
       "   id  school_year  age  gender        bmi          who_bmi  phq_score  \\\n",
       "0   1            1   19    male  33.333333  Class I Obesity          9   \n",
       "1   2            1   18    male  19.841270           Normal          8   \n",
       "2   3            1   19    male  25.102391       Overweight          8   \n",
       "3   4            1   18  female  23.738662           Normal         19   \n",
       "4   5            1   18    male  25.617284       Overweight          6   \n",
       "\n",
       "  depression_severity depressiveness suicidal depression_diagnosis  \\\n",
       "0                Mild          False    False                False   \n",
       "1                Mild          False    False                False   \n",
       "2                Mild          False    False                False   \n",
       "3   Moderately severe           True     True                False   \n",
       "4                Mild          False    False                False   \n",
       "\n",
       "  depression_treatment  gad_score anxiety_severity anxiousness  \\\n",
       "0                False         11         Moderate        True   \n",
       "1                False          5             Mild       False   \n",
       "2                False          6             Mild       False   \n",
       "3                False         15           Severe        True   \n",
       "4                False         14         Moderate        True   \n",
       "\n",
       "  anxiety_diagnosis anxiety_treatment  epworth_score sleepiness  \n",
       "0             False             False            7.0      False  \n",
       "1             False             False           14.0       True  \n",
       "2             False             False            6.0      False  \n",
       "3             False             False           11.0       True  \n",
       "4             False             False            3.0      False  "
      ]
     },
     "execution_count": 3,
     "metadata": {},
     "output_type": "execute_result"
    }
   ],
   "source": [
    "df.head()"
   ]
  },
  {
   "cell_type": "code",
   "execution_count": 4,
   "id": "aef746ed-a332-42d5-b51e-8e62a7c8339b",
   "metadata": {},
   "outputs": [
    {
     "name": "stdout",
     "output_type": "stream",
     "text": [
      "<class 'pandas.core.frame.DataFrame'>\n",
      "RangeIndex: 783 entries, 0 to 782\n",
      "Data columns (total 19 columns):\n",
      " #   Column                Non-Null Count  Dtype  \n",
      "---  ------                --------------  -----  \n",
      " 0   id                    783 non-null    int64  \n",
      " 1   school_year           783 non-null    int64  \n",
      " 2   age                   783 non-null    int64  \n",
      " 3   gender                783 non-null    object \n",
      " 4   bmi                   783 non-null    float64\n",
      " 5   who_bmi               783 non-null    object \n",
      " 6   phq_score             783 non-null    int64  \n",
      " 7   depression_severity   779 non-null    object \n",
      " 8   depressiveness        780 non-null    object \n",
      " 9   suicidal              782 non-null    object \n",
      " 10  depression_diagnosis  782 non-null    object \n",
      " 11  depression_treatment  779 non-null    object \n",
      " 12  gad_score             783 non-null    int64  \n",
      " 13  anxiety_severity      783 non-null    object \n",
      " 14  anxiousness           777 non-null    object \n",
      " 15  anxiety_diagnosis     779 non-null    object \n",
      " 16  anxiety_treatment     781 non-null    object \n",
      " 17  epworth_score         775 non-null    float64\n",
      " 18  sleepiness            775 non-null    object \n",
      "dtypes: float64(2), int64(5), object(12)\n",
      "memory usage: 116.4+ KB\n"
     ]
    }
   ],
   "source": [
    "df.info()"
   ]
  },
  {
   "cell_type": "code",
   "execution_count": 5,
   "id": "fba26f54-4509-4afd-a42c-739ef5479edd",
   "metadata": {},
   "outputs": [
    {
     "data": {
      "text/plain": [
       "id                      0\n",
       "school_year             0\n",
       "age                     0\n",
       "gender                  0\n",
       "bmi                     0\n",
       "who_bmi                 0\n",
       "phq_score               0\n",
       "depression_severity     4\n",
       "depressiveness          3\n",
       "suicidal                1\n",
       "depression_diagnosis    1\n",
       "depression_treatment    4\n",
       "gad_score               0\n",
       "anxiety_severity        0\n",
       "anxiousness             6\n",
       "anxiety_diagnosis       4\n",
       "anxiety_treatment       2\n",
       "epworth_score           8\n",
       "sleepiness              8\n",
       "dtype: int64"
      ]
     },
     "execution_count": 5,
     "metadata": {},
     "output_type": "execute_result"
    }
   ],
   "source": [
    "df.isna().sum()"
   ]
  },
  {
   "cell_type": "code",
   "execution_count": 6,
   "id": "65b3898c-2d2d-47f2-8e74-cdf5c62365bd",
   "metadata": {},
   "outputs": [],
   "source": [
    "df.dropna(inplace=True)"
   ]
  },
  {
   "cell_type": "code",
   "execution_count": 7,
   "id": "b66583d5-f649-4ba2-82f0-1fe01e45d14a",
   "metadata": {},
   "outputs": [
    {
     "data": {
      "text/plain": [
       "id                      0\n",
       "school_year             0\n",
       "age                     0\n",
       "gender                  0\n",
       "bmi                     0\n",
       "who_bmi                 0\n",
       "phq_score               0\n",
       "depression_severity     0\n",
       "depressiveness          0\n",
       "suicidal                0\n",
       "depression_diagnosis    0\n",
       "depression_treatment    0\n",
       "gad_score               0\n",
       "anxiety_severity        0\n",
       "anxiousness             0\n",
       "anxiety_diagnosis       0\n",
       "anxiety_treatment       0\n",
       "epworth_score           0\n",
       "sleepiness              0\n",
       "dtype: int64"
      ]
     },
     "execution_count": 7,
     "metadata": {},
     "output_type": "execute_result"
    }
   ],
   "source": [
    "df.isna().sum()"
   ]
  },
  {
   "cell_type": "code",
   "execution_count": 8,
   "id": "91fc316c-ec77-4032-904e-962b2af484ee",
   "metadata": {},
   "outputs": [],
   "source": [
    "df.drop(columns = ['id', 'school_year'], inplace=True)"
   ]
  },
  {
   "cell_type": "code",
   "execution_count": 9,
   "id": "3e360c67-4ea5-419c-8145-d9195c00346b",
   "metadata": {},
   "outputs": [
    {
     "data": {
      "text/html": [
       "<div>\n",
       "<style scoped>\n",
       "    .dataframe tbody tr th:only-of-type {\n",
       "        vertical-align: middle;\n",
       "    }\n",
       "\n",
       "    .dataframe tbody tr th {\n",
       "        vertical-align: top;\n",
       "    }\n",
       "\n",
       "    .dataframe thead th {\n",
       "        text-align: right;\n",
       "    }\n",
       "</style>\n",
       "<table border=\"1\" class=\"dataframe\">\n",
       "  <thead>\n",
       "    <tr style=\"text-align: right;\">\n",
       "      <th></th>\n",
       "      <th>age</th>\n",
       "      <th>gender</th>\n",
       "      <th>bmi</th>\n",
       "      <th>who_bmi</th>\n",
       "      <th>phq_score</th>\n",
       "      <th>depression_severity</th>\n",
       "      <th>depressiveness</th>\n",
       "      <th>suicidal</th>\n",
       "      <th>depression_diagnosis</th>\n",
       "      <th>depression_treatment</th>\n",
       "      <th>gad_score</th>\n",
       "      <th>anxiety_severity</th>\n",
       "      <th>anxiousness</th>\n",
       "      <th>anxiety_diagnosis</th>\n",
       "      <th>anxiety_treatment</th>\n",
       "      <th>epworth_score</th>\n",
       "      <th>sleepiness</th>\n",
       "    </tr>\n",
       "  </thead>\n",
       "  <tbody>\n",
       "    <tr>\n",
       "      <th>0</th>\n",
       "      <td>19</td>\n",
       "      <td>male</td>\n",
       "      <td>33.333333</td>\n",
       "      <td>Class I Obesity</td>\n",
       "      <td>9</td>\n",
       "      <td>Mild</td>\n",
       "      <td>False</td>\n",
       "      <td>False</td>\n",
       "      <td>False</td>\n",
       "      <td>False</td>\n",
       "      <td>11</td>\n",
       "      <td>Moderate</td>\n",
       "      <td>True</td>\n",
       "      <td>False</td>\n",
       "      <td>False</td>\n",
       "      <td>7.0</td>\n",
       "      <td>False</td>\n",
       "    </tr>\n",
       "    <tr>\n",
       "      <th>1</th>\n",
       "      <td>18</td>\n",
       "      <td>male</td>\n",
       "      <td>19.841270</td>\n",
       "      <td>Normal</td>\n",
       "      <td>8</td>\n",
       "      <td>Mild</td>\n",
       "      <td>False</td>\n",
       "      <td>False</td>\n",
       "      <td>False</td>\n",
       "      <td>False</td>\n",
       "      <td>5</td>\n",
       "      <td>Mild</td>\n",
       "      <td>False</td>\n",
       "      <td>False</td>\n",
       "      <td>False</td>\n",
       "      <td>14.0</td>\n",
       "      <td>True</td>\n",
       "    </tr>\n",
       "    <tr>\n",
       "      <th>2</th>\n",
       "      <td>19</td>\n",
       "      <td>male</td>\n",
       "      <td>25.102391</td>\n",
       "      <td>Overweight</td>\n",
       "      <td>8</td>\n",
       "      <td>Mild</td>\n",
       "      <td>False</td>\n",
       "      <td>False</td>\n",
       "      <td>False</td>\n",
       "      <td>False</td>\n",
       "      <td>6</td>\n",
       "      <td>Mild</td>\n",
       "      <td>False</td>\n",
       "      <td>False</td>\n",
       "      <td>False</td>\n",
       "      <td>6.0</td>\n",
       "      <td>False</td>\n",
       "    </tr>\n",
       "    <tr>\n",
       "      <th>3</th>\n",
       "      <td>18</td>\n",
       "      <td>female</td>\n",
       "      <td>23.738662</td>\n",
       "      <td>Normal</td>\n",
       "      <td>19</td>\n",
       "      <td>Moderately severe</td>\n",
       "      <td>True</td>\n",
       "      <td>True</td>\n",
       "      <td>False</td>\n",
       "      <td>False</td>\n",
       "      <td>15</td>\n",
       "      <td>Severe</td>\n",
       "      <td>True</td>\n",
       "      <td>False</td>\n",
       "      <td>False</td>\n",
       "      <td>11.0</td>\n",
       "      <td>True</td>\n",
       "    </tr>\n",
       "    <tr>\n",
       "      <th>4</th>\n",
       "      <td>18</td>\n",
       "      <td>male</td>\n",
       "      <td>25.617284</td>\n",
       "      <td>Overweight</td>\n",
       "      <td>6</td>\n",
       "      <td>Mild</td>\n",
       "      <td>False</td>\n",
       "      <td>False</td>\n",
       "      <td>False</td>\n",
       "      <td>False</td>\n",
       "      <td>14</td>\n",
       "      <td>Moderate</td>\n",
       "      <td>True</td>\n",
       "      <td>False</td>\n",
       "      <td>False</td>\n",
       "      <td>3.0</td>\n",
       "      <td>False</td>\n",
       "    </tr>\n",
       "  </tbody>\n",
       "</table>\n",
       "</div>"
      ],
      "text/plain": [
       "   age  gender        bmi          who_bmi  phq_score depression_severity  \\\n",
       "0   19    male  33.333333  Class I Obesity          9                Mild   \n",
       "1   18    male  19.841270           Normal          8                Mild   \n",
       "2   19    male  25.102391       Overweight          8                Mild   \n",
       "3   18  female  23.738662           Normal         19   Moderately severe   \n",
       "4   18    male  25.617284       Overweight          6                Mild   \n",
       "\n",
       "  depressiveness suicidal depression_diagnosis depression_treatment  \\\n",
       "0          False    False                False                False   \n",
       "1          False    False                False                False   \n",
       "2          False    False                False                False   \n",
       "3           True     True                False                False   \n",
       "4          False    False                False                False   \n",
       "\n",
       "   gad_score anxiety_severity anxiousness anxiety_diagnosis anxiety_treatment  \\\n",
       "0         11         Moderate        True             False             False   \n",
       "1          5             Mild       False             False             False   \n",
       "2          6             Mild       False             False             False   \n",
       "3         15           Severe        True             False             False   \n",
       "4         14         Moderate        True             False             False   \n",
       "\n",
       "   epworth_score sleepiness  \n",
       "0            7.0      False  \n",
       "1           14.0       True  \n",
       "2            6.0      False  \n",
       "3           11.0       True  \n",
       "4            3.0      False  "
      ]
     },
     "execution_count": 9,
     "metadata": {},
     "output_type": "execute_result"
    }
   ],
   "source": [
    "df.head()"
   ]
  },
  {
   "cell_type": "code",
   "execution_count": 10,
   "id": "ffbda171-e76a-47a0-b23a-6628e94bc1b0",
   "metadata": {},
   "outputs": [],
   "source": [
    "df.drop(columns = ['bmi', 'epworth_score'], inplace = True)"
   ]
  },
  {
   "cell_type": "code",
   "execution_count": 11,
   "id": "b184b2df-77df-468b-8bc1-165ade0937fc",
   "metadata": {},
   "outputs": [
    {
     "data": {
      "text/html": [
       "<div>\n",
       "<style scoped>\n",
       "    .dataframe tbody tr th:only-of-type {\n",
       "        vertical-align: middle;\n",
       "    }\n",
       "\n",
       "    .dataframe tbody tr th {\n",
       "        vertical-align: top;\n",
       "    }\n",
       "\n",
       "    .dataframe thead th {\n",
       "        text-align: right;\n",
       "    }\n",
       "</style>\n",
       "<table border=\"1\" class=\"dataframe\">\n",
       "  <thead>\n",
       "    <tr style=\"text-align: right;\">\n",
       "      <th></th>\n",
       "      <th>age</th>\n",
       "      <th>phq_score</th>\n",
       "      <th>gad_score</th>\n",
       "    </tr>\n",
       "  </thead>\n",
       "  <tbody>\n",
       "    <tr>\n",
       "      <th>count</th>\n",
       "      <td>765.000000</td>\n",
       "      <td>765.000000</td>\n",
       "      <td>765.000000</td>\n",
       "    </tr>\n",
       "    <tr>\n",
       "      <th>mean</th>\n",
       "      <td>20.257516</td>\n",
       "      <td>7.167320</td>\n",
       "      <td>6.882353</td>\n",
       "    </tr>\n",
       "    <tr>\n",
       "      <th>std</th>\n",
       "      <td>1.772488</td>\n",
       "      <td>4.420411</td>\n",
       "      <td>4.730071</td>\n",
       "    </tr>\n",
       "    <tr>\n",
       "      <th>min</th>\n",
       "      <td>18.000000</td>\n",
       "      <td>0.000000</td>\n",
       "      <td>0.000000</td>\n",
       "    </tr>\n",
       "    <tr>\n",
       "      <th>25%</th>\n",
       "      <td>19.000000</td>\n",
       "      <td>4.000000</td>\n",
       "      <td>3.000000</td>\n",
       "    </tr>\n",
       "    <tr>\n",
       "      <th>50%</th>\n",
       "      <td>20.000000</td>\n",
       "      <td>6.000000</td>\n",
       "      <td>6.000000</td>\n",
       "    </tr>\n",
       "    <tr>\n",
       "      <th>75%</th>\n",
       "      <td>21.000000</td>\n",
       "      <td>9.000000</td>\n",
       "      <td>9.000000</td>\n",
       "    </tr>\n",
       "    <tr>\n",
       "      <th>max</th>\n",
       "      <td>31.000000</td>\n",
       "      <td>24.000000</td>\n",
       "      <td>21.000000</td>\n",
       "    </tr>\n",
       "  </tbody>\n",
       "</table>\n",
       "</div>"
      ],
      "text/plain": [
       "              age   phq_score   gad_score\n",
       "count  765.000000  765.000000  765.000000\n",
       "mean    20.257516    7.167320    6.882353\n",
       "std      1.772488    4.420411    4.730071\n",
       "min     18.000000    0.000000    0.000000\n",
       "25%     19.000000    4.000000    3.000000\n",
       "50%     20.000000    6.000000    6.000000\n",
       "75%     21.000000    9.000000    9.000000\n",
       "max     31.000000   24.000000   21.000000"
      ]
     },
     "execution_count": 11,
     "metadata": {},
     "output_type": "execute_result"
    }
   ],
   "source": [
    "df.describe()"
   ]
  },
  {
   "cell_type": "code",
   "execution_count": 12,
   "id": "a7958d1f-f7d7-47a2-8bf1-08e3bbd233e3",
   "metadata": {},
   "outputs": [
    {
     "data": {
      "text/html": [
       "<div>\n",
       "<style scoped>\n",
       "    .dataframe tbody tr th:only-of-type {\n",
       "        vertical-align: middle;\n",
       "    }\n",
       "\n",
       "    .dataframe tbody tr th {\n",
       "        vertical-align: top;\n",
       "    }\n",
       "\n",
       "    .dataframe thead th {\n",
       "        text-align: right;\n",
       "    }\n",
       "</style>\n",
       "<table border=\"1\" class=\"dataframe\">\n",
       "  <thead>\n",
       "    <tr style=\"text-align: right;\">\n",
       "      <th></th>\n",
       "      <th>age</th>\n",
       "      <th>gender</th>\n",
       "      <th>who_bmi</th>\n",
       "      <th>phq_score</th>\n",
       "      <th>depression_severity</th>\n",
       "      <th>depressiveness</th>\n",
       "      <th>suicidal</th>\n",
       "      <th>depression_diagnosis</th>\n",
       "      <th>depression_treatment</th>\n",
       "      <th>gad_score</th>\n",
       "      <th>anxiety_severity</th>\n",
       "      <th>anxiousness</th>\n",
       "      <th>anxiety_diagnosis</th>\n",
       "      <th>anxiety_treatment</th>\n",
       "      <th>sleepiness</th>\n",
       "    </tr>\n",
       "  </thead>\n",
       "  <tbody>\n",
       "    <tr>\n",
       "      <th>11</th>\n",
       "      <td>18</td>\n",
       "      <td>female</td>\n",
       "      <td>Not Availble</td>\n",
       "      <td>8</td>\n",
       "      <td>Mild</td>\n",
       "      <td>False</td>\n",
       "      <td>False</td>\n",
       "      <td>False</td>\n",
       "      <td>False</td>\n",
       "      <td>4</td>\n",
       "      <td>None-minimal</td>\n",
       "      <td>False</td>\n",
       "      <td>False</td>\n",
       "      <td>False</td>\n",
       "      <td>False</td>\n",
       "    </tr>\n",
       "    <tr>\n",
       "      <th>50</th>\n",
       "      <td>20</td>\n",
       "      <td>female</td>\n",
       "      <td>Not Availble</td>\n",
       "      <td>6</td>\n",
       "      <td>Mild</td>\n",
       "      <td>False</td>\n",
       "      <td>False</td>\n",
       "      <td>False</td>\n",
       "      <td>False</td>\n",
       "      <td>4</td>\n",
       "      <td>None-minimal</td>\n",
       "      <td>False</td>\n",
       "      <td>False</td>\n",
       "      <td>False</td>\n",
       "      <td>False</td>\n",
       "    </tr>\n",
       "    <tr>\n",
       "      <th>127</th>\n",
       "      <td>18</td>\n",
       "      <td>male</td>\n",
       "      <td>Not Availble</td>\n",
       "      <td>8</td>\n",
       "      <td>Mild</td>\n",
       "      <td>False</td>\n",
       "      <td>False</td>\n",
       "      <td>False</td>\n",
       "      <td>False</td>\n",
       "      <td>6</td>\n",
       "      <td>Mild</td>\n",
       "      <td>False</td>\n",
       "      <td>False</td>\n",
       "      <td>False</td>\n",
       "      <td>False</td>\n",
       "    </tr>\n",
       "    <tr>\n",
       "      <th>157</th>\n",
       "      <td>18</td>\n",
       "      <td>male</td>\n",
       "      <td>Not Availble</td>\n",
       "      <td>2</td>\n",
       "      <td>None-minimal</td>\n",
       "      <td>False</td>\n",
       "      <td>False</td>\n",
       "      <td>False</td>\n",
       "      <td>False</td>\n",
       "      <td>1</td>\n",
       "      <td>None-minimal</td>\n",
       "      <td>False</td>\n",
       "      <td>False</td>\n",
       "      <td>False</td>\n",
       "      <td>False</td>\n",
       "    </tr>\n",
       "    <tr>\n",
       "      <th>334</th>\n",
       "      <td>19</td>\n",
       "      <td>male</td>\n",
       "      <td>Not Availble</td>\n",
       "      <td>3</td>\n",
       "      <td>None-minimal</td>\n",
       "      <td>False</td>\n",
       "      <td>False</td>\n",
       "      <td>False</td>\n",
       "      <td>False</td>\n",
       "      <td>0</td>\n",
       "      <td>None-minimal</td>\n",
       "      <td>False</td>\n",
       "      <td>False</td>\n",
       "      <td>False</td>\n",
       "      <td>False</td>\n",
       "    </tr>\n",
       "    <tr>\n",
       "      <th>525</th>\n",
       "      <td>21</td>\n",
       "      <td>female</td>\n",
       "      <td>Not Availble</td>\n",
       "      <td>4</td>\n",
       "      <td>None-minimal</td>\n",
       "      <td>False</td>\n",
       "      <td>False</td>\n",
       "      <td>False</td>\n",
       "      <td>False</td>\n",
       "      <td>0</td>\n",
       "      <td>None-minimal</td>\n",
       "      <td>False</td>\n",
       "      <td>False</td>\n",
       "      <td>False</td>\n",
       "      <td>False</td>\n",
       "    </tr>\n",
       "    <tr>\n",
       "      <th>555</th>\n",
       "      <td>21</td>\n",
       "      <td>female</td>\n",
       "      <td>Not Availble</td>\n",
       "      <td>4</td>\n",
       "      <td>None-minimal</td>\n",
       "      <td>False</td>\n",
       "      <td>False</td>\n",
       "      <td>True</td>\n",
       "      <td>True</td>\n",
       "      <td>4</td>\n",
       "      <td>None-minimal</td>\n",
       "      <td>False</td>\n",
       "      <td>True</td>\n",
       "      <td>True</td>\n",
       "      <td>False</td>\n",
       "    </tr>\n",
       "    <tr>\n",
       "      <th>648</th>\n",
       "      <td>22</td>\n",
       "      <td>female</td>\n",
       "      <td>Not Availble</td>\n",
       "      <td>11</td>\n",
       "      <td>Moderate</td>\n",
       "      <td>True</td>\n",
       "      <td>False</td>\n",
       "      <td>True</td>\n",
       "      <td>True</td>\n",
       "      <td>6</td>\n",
       "      <td>Mild</td>\n",
       "      <td>False</td>\n",
       "      <td>True</td>\n",
       "      <td>True</td>\n",
       "      <td>True</td>\n",
       "    </tr>\n",
       "  </tbody>\n",
       "</table>\n",
       "</div>"
      ],
      "text/plain": [
       "     age  gender       who_bmi  phq_score depression_severity depressiveness  \\\n",
       "11    18  female  Not Availble          8                Mild          False   \n",
       "50    20  female  Not Availble          6                Mild          False   \n",
       "127   18    male  Not Availble          8                Mild          False   \n",
       "157   18    male  Not Availble          2        None-minimal          False   \n",
       "334   19    male  Not Availble          3        None-minimal          False   \n",
       "525   21  female  Not Availble          4        None-minimal          False   \n",
       "555   21  female  Not Availble          4        None-minimal          False   \n",
       "648   22  female  Not Availble         11            Moderate           True   \n",
       "\n",
       "    suicidal depression_diagnosis depression_treatment  gad_score  \\\n",
       "11     False                False                False          4   \n",
       "50     False                False                False          4   \n",
       "127    False                False                False          6   \n",
       "157    False                False                False          1   \n",
       "334    False                False                False          0   \n",
       "525    False                False                False          0   \n",
       "555    False                 True                 True          4   \n",
       "648    False                 True                 True          6   \n",
       "\n",
       "    anxiety_severity anxiousness anxiety_diagnosis anxiety_treatment  \\\n",
       "11      None-minimal       False             False             False   \n",
       "50      None-minimal       False             False             False   \n",
       "127             Mild       False             False             False   \n",
       "157     None-minimal       False             False             False   \n",
       "334     None-minimal       False             False             False   \n",
       "525     None-minimal       False             False             False   \n",
       "555     None-minimal       False              True              True   \n",
       "648             Mild       False              True              True   \n",
       "\n",
       "    sleepiness  \n",
       "11       False  \n",
       "50       False  \n",
       "127      False  \n",
       "157      False  \n",
       "334      False  \n",
       "525      False  \n",
       "555      False  \n",
       "648       True  "
      ]
     },
     "execution_count": 12,
     "metadata": {},
     "output_type": "execute_result"
    }
   ],
   "source": [
    "df[df['who_bmi']=='Not Availble']"
   ]
  },
  {
   "cell_type": "code",
   "execution_count": 13,
   "id": "297acab2-62e9-4a81-9357-5b34987343f5",
   "metadata": {},
   "outputs": [
    {
     "data": {
      "text/plain": [
       "who_bmi\n",
       "Normal               497\n",
       "Overweight           189\n",
       "Underweight           35\n",
       "Class I Obesity       27\n",
       "Not Availble           8\n",
       "Class II Obesity       5\n",
       "Class III Obesity      4\n",
       "Name: count, dtype: int64"
      ]
     },
     "execution_count": 13,
     "metadata": {},
     "output_type": "execute_result"
    }
   ],
   "source": [
    "df.who_bmi.value_counts()"
   ]
  },
  {
   "cell_type": "code",
   "execution_count": 14,
   "id": "ebe9e6c6-ce9a-4332-a609-78d67544a5ab",
   "metadata": {},
   "outputs": [],
   "source": [
    "df.who_bmi = df.who_bmi.map(lambda x: x if x != 'Not Availble' else 'Normal')"
   ]
  },
  {
   "cell_type": "raw",
   "id": "2411857f-001a-418d-aad5-b528969b203d",
   "metadata": {},
   "source": [
    "EDA"
   ]
  },
  {
   "cell_type": "code",
   "execution_count": 15,
   "id": "e0cd0be2-52bf-41cd-a92b-9fdd596995aa",
   "metadata": {},
   "outputs": [
    {
     "data": {
      "text/html": [
       "<div>\n",
       "<style scoped>\n",
       "    .dataframe tbody tr th:only-of-type {\n",
       "        vertical-align: middle;\n",
       "    }\n",
       "\n",
       "    .dataframe tbody tr th {\n",
       "        vertical-align: top;\n",
       "    }\n",
       "\n",
       "    .dataframe thead th {\n",
       "        text-align: right;\n",
       "    }\n",
       "</style>\n",
       "<table border=\"1\" class=\"dataframe\">\n",
       "  <thead>\n",
       "    <tr style=\"text-align: right;\">\n",
       "      <th></th>\n",
       "      <th>age</th>\n",
       "      <th>phq_score</th>\n",
       "      <th>gad_score</th>\n",
       "    </tr>\n",
       "  </thead>\n",
       "  <tbody>\n",
       "    <tr>\n",
       "      <th>count</th>\n",
       "      <td>765.000000</td>\n",
       "      <td>765.000000</td>\n",
       "      <td>765.000000</td>\n",
       "    </tr>\n",
       "    <tr>\n",
       "      <th>mean</th>\n",
       "      <td>20.257516</td>\n",
       "      <td>7.167320</td>\n",
       "      <td>6.882353</td>\n",
       "    </tr>\n",
       "    <tr>\n",
       "      <th>std</th>\n",
       "      <td>1.772488</td>\n",
       "      <td>4.420411</td>\n",
       "      <td>4.730071</td>\n",
       "    </tr>\n",
       "    <tr>\n",
       "      <th>min</th>\n",
       "      <td>18.000000</td>\n",
       "      <td>0.000000</td>\n",
       "      <td>0.000000</td>\n",
       "    </tr>\n",
       "    <tr>\n",
       "      <th>25%</th>\n",
       "      <td>19.000000</td>\n",
       "      <td>4.000000</td>\n",
       "      <td>3.000000</td>\n",
       "    </tr>\n",
       "    <tr>\n",
       "      <th>50%</th>\n",
       "      <td>20.000000</td>\n",
       "      <td>6.000000</td>\n",
       "      <td>6.000000</td>\n",
       "    </tr>\n",
       "    <tr>\n",
       "      <th>75%</th>\n",
       "      <td>21.000000</td>\n",
       "      <td>9.000000</td>\n",
       "      <td>9.000000</td>\n",
       "    </tr>\n",
       "    <tr>\n",
       "      <th>max</th>\n",
       "      <td>31.000000</td>\n",
       "      <td>24.000000</td>\n",
       "      <td>21.000000</td>\n",
       "    </tr>\n",
       "  </tbody>\n",
       "</table>\n",
       "</div>"
      ],
      "text/plain": [
       "              age   phq_score   gad_score\n",
       "count  765.000000  765.000000  765.000000\n",
       "mean    20.257516    7.167320    6.882353\n",
       "std      1.772488    4.420411    4.730071\n",
       "min     18.000000    0.000000    0.000000\n",
       "25%     19.000000    4.000000    3.000000\n",
       "50%     20.000000    6.000000    6.000000\n",
       "75%     21.000000    9.000000    9.000000\n",
       "max     31.000000   24.000000   21.000000"
      ]
     },
     "execution_count": 15,
     "metadata": {},
     "output_type": "execute_result"
    }
   ],
   "source": [
    "df.describe()"
   ]
  },
  {
   "cell_type": "code",
   "execution_count": 16,
   "id": "aa411c07-c10d-459d-89d0-cdee32b5fda5",
   "metadata": {},
   "outputs": [
    {
     "data": {
      "text/html": [
       "<div>\n",
       "<style scoped>\n",
       "    .dataframe tbody tr th:only-of-type {\n",
       "        vertical-align: middle;\n",
       "    }\n",
       "\n",
       "    .dataframe tbody tr th {\n",
       "        vertical-align: top;\n",
       "    }\n",
       "\n",
       "    .dataframe thead th {\n",
       "        text-align: right;\n",
       "    }\n",
       "</style>\n",
       "<table border=\"1\" class=\"dataframe\">\n",
       "  <thead>\n",
       "    <tr style=\"text-align: right;\">\n",
       "      <th>depressiveness</th>\n",
       "      <th>False</th>\n",
       "      <th>True</th>\n",
       "    </tr>\n",
       "    <tr>\n",
       "      <th>gender</th>\n",
       "      <th></th>\n",
       "      <th></th>\n",
       "    </tr>\n",
       "  </thead>\n",
       "  <tbody>\n",
       "    <tr>\n",
       "      <th>female</th>\n",
       "      <td>273</td>\n",
       "      <td>121</td>\n",
       "    </tr>\n",
       "    <tr>\n",
       "      <th>male</th>\n",
       "      <td>287</td>\n",
       "      <td>84</td>\n",
       "    </tr>\n",
       "  </tbody>\n",
       "</table>\n",
       "</div>"
      ],
      "text/plain": [
       "depressiveness  False  True \n",
       "gender                      \n",
       "female            273    121\n",
       "male              287     84"
      ]
     },
     "execution_count": 16,
     "metadata": {},
     "output_type": "execute_result"
    }
   ],
   "source": [
    "pd.crosstab(df['gender'], df['depressiveness'])"
   ]
  },
  {
   "cell_type": "code",
   "execution_count": 17,
   "id": "a655cc7f-e152-4cda-802c-8231d44cc228",
   "metadata": {},
   "outputs": [
    {
     "data": {
      "text/plain": [
       "<Axes: xlabel='gender', ylabel='count'>"
      ]
     },
     "execution_count": 17,
     "metadata": {},
     "output_type": "execute_result"
    },
    {
     "data": {
      "image/png": "[encoded data removed]",
      "text/plain": [
       "<Figure size 640x480 with 1 Axes>"
      ]
     },
     "metadata": {},
     "output_type": "display_data"
    }
   ],
   "source": [
    "sns.countplot(x='gender', hue='depressiveness', data=df)"
   ]
  },
  {
   "cell_type": "code",
   "execution_count": 18,
   "id": "ed5aa6eb-615b-41d2-830d-e389832868f2",
   "metadata": {},
   "outputs": [
    {
     "data": {
      "text/plain": [
       "Text(0.5, 1.0, 'Depressiveness by WHO BMI')"
      ]
     },
     "execution_count": 18,
     "metadata": {},
     "output_type": "execute_result"
    },
    {
     "data": {
      "image/png": "[encoded data removed]",
      "text/plain": [
       "<Figure size 640x480 with 1 Axes>"
      ]
     },
     "metadata": {},
     "output_type": "display_data"
    }
   ],
   "source": [
    "sns.countplot(x='who_bmi', hue='depressiveness', data=df, order=['Underweight', 'Normal', 'Overweight', 'Class I Obesity', 'Class II Obesity', 'Class III Obesity']) \n",
    "plt.title('Depressiveness by WHO BMI')"
   ]
  },
  {
   "cell_type": "code",
   "execution_count": 19,
   "id": "36e6874a-ef91-48fa-ba65-374d37c0b7ba",
   "metadata": {},
   "outputs": [
    {
     "data": {
      "text/plain": [
       "Text(0.5, 1.0, 'Depressiveness by WHO BMI (Male)')"
      ]
     },
     "execution_count": 19,
     "metadata": {},
     "output_type": "execute_result"
    },
    {
     "data": {
      "image/png": "[encoded data removed]",
      "text/plain": [
       "<Figure size 640x480 with 1 Axes>"
      ]
     },
     "metadata": {},
     "output_type": "display_data"
    }
   ],
   "source": [
    "sns.countplot(x='who_bmi', hue='depressiveness', data=df[df['gender'] == 'male'], order=['Underweight', 'Normal', 'Overweight', 'Class I Obesity', 'Class II Obesity', 'Class III Obesity'])  # Maintain order if it exists\n",
    "plt.title('Depressiveness by WHO BMI (Male)')"
   ]
  },
  {
   "cell_type": "code",
   "execution_count": 20,
   "id": "44527811-798d-4e17-85ed-bbbba94c6395",
   "metadata": {},
   "outputs": [
    {
     "data": {
      "text/plain": [
       "Text(0.5, 1.0, 'Depressiveness by WHO BMI (Female)')"
      ]
     },
     "execution_count": 20,
     "metadata": {},
     "output_type": "execute_result"
    },
    {
     "data": {
      "image/png": "[encoded data removed]",
      "text/plain": [
       "<Figure size 640x480 with 1 Axes>"
      ]
     },
     "metadata": {},
     "output_type": "display_data"
    }
   ],
   "source": [
    "sns.countplot(x='who_bmi', hue='depressiveness', data=df[df['gender'] == 'female'], order=['Underweight', 'Normal', 'Overweight', 'Class I Obesity', 'Class II Obesity', 'Class III Obesity'])  # Maintain order if it exists\n",
    "plt.title('Depressiveness by WHO BMI (Female)')"
   ]
  },
  {
   "cell_type": "code",
   "execution_count": 21,
   "id": "2f133ff5-d9ce-409d-8eee-0614f3b343a7",
   "metadata": {},
   "outputs": [
    {
     "data": {
      "text/html": [
       "<div>\n",
       "<style scoped>\n",
       "    .dataframe tbody tr th:only-of-type {\n",
       "        vertical-align: middle;\n",
       "    }\n",
       "\n",
       "    .dataframe tbody tr th {\n",
       "        vertical-align: top;\n",
       "    }\n",
       "\n",
       "    .dataframe thead th {\n",
       "        text-align: right;\n",
       "    }\n",
       "</style>\n",
       "<table border=\"1\" class=\"dataframe\">\n",
       "  <thead>\n",
       "    <tr style=\"text-align: right;\">\n",
       "      <th>depressiveness</th>\n",
       "      <th>False</th>\n",
       "      <th>True</th>\n",
       "    </tr>\n",
       "    <tr>\n",
       "      <th>who_bmi</th>\n",
       "      <th></th>\n",
       "      <th></th>\n",
       "    </tr>\n",
       "  </thead>\n",
       "  <tbody>\n",
       "    <tr>\n",
       "      <th>Class I Obesity</th>\n",
       "      <td>17</td>\n",
       "      <td>10</td>\n",
       "    </tr>\n",
       "    <tr>\n",
       "      <th>Class II Obesity</th>\n",
       "      <td>1</td>\n",
       "      <td>4</td>\n",
       "    </tr>\n",
       "    <tr>\n",
       "      <th>Class III Obesity</th>\n",
       "      <td>2</td>\n",
       "      <td>2</td>\n",
       "    </tr>\n",
       "    <tr>\n",
       "      <th>Normal</th>\n",
       "      <td>379</td>\n",
       "      <td>126</td>\n",
       "    </tr>\n",
       "    <tr>\n",
       "      <th>Overweight</th>\n",
       "      <td>134</td>\n",
       "      <td>55</td>\n",
       "    </tr>\n",
       "    <tr>\n",
       "      <th>Underweight</th>\n",
       "      <td>27</td>\n",
       "      <td>8</td>\n",
       "    </tr>\n",
       "  </tbody>\n",
       "</table>\n",
       "</div>"
      ],
      "text/plain": [
       "depressiveness     False  True \n",
       "who_bmi                        \n",
       "Class I Obesity       17     10\n",
       "Class II Obesity       1      4\n",
       "Class III Obesity      2      2\n",
       "Normal               379    126\n",
       "Overweight           134     55\n",
       "Underweight           27      8"
      ]
     },
     "execution_count": 21,
     "metadata": {},
     "output_type": "execute_result"
    }
   ],
   "source": [
    "pd.crosstab(df['who_bmi'], df['depressiveness'])"
   ]
  },
  {
   "cell_type": "code",
   "execution_count": 22,
   "id": "67bcf8c0-02e0-45bd-b845-fe7b57f889ed",
   "metadata": {},
   "outputs": [
    {
     "data": {
      "text/plain": [
       "<Axes: xlabel='age', ylabel='count'>"
      ]
     },
     "execution_count": 22,
     "metadata": {},
     "output_type": "execute_result"
    },
    {
     "data": {
      "image/png": "[encoded data removed]",
      "text/plain": [
       "<Figure size 640x480 with 1 Axes>"
      ]
     },
     "metadata": {},
     "output_type": "display_data"
    }
   ],
   "source": [
    "sns.countplot(x='age', hue='depressiveness', data=df, stat='count')"
   ]
  },
  {
   "cell_type": "code",
   "execution_count": 23,
   "id": "c4ca6d0f-79dc-493e-8af9-f6b90b9330d6",
   "metadata": {},
   "outputs": [
    {
     "data": {
      "text/html": [
       "<div>\n",
       "<style scoped>\n",
       "    .dataframe tbody tr th:only-of-type {\n",
       "        vertical-align: middle;\n",
       "    }\n",
       "\n",
       "    .dataframe tbody tr th {\n",
       "        vertical-align: top;\n",
       "    }\n",
       "\n",
       "    .dataframe thead th {\n",
       "        text-align: right;\n",
       "    }\n",
       "</style>\n",
       "<table border=\"1\" class=\"dataframe\">\n",
       "  <thead>\n",
       "    <tr style=\"text-align: right;\">\n",
       "      <th>depressiveness</th>\n",
       "      <th>False</th>\n",
       "      <th>True</th>\n",
       "    </tr>\n",
       "    <tr>\n",
       "      <th>age</th>\n",
       "      <th></th>\n",
       "      <th></th>\n",
       "    </tr>\n",
       "  </thead>\n",
       "  <tbody>\n",
       "    <tr>\n",
       "      <th>18</th>\n",
       "      <td>84</td>\n",
       "      <td>26</td>\n",
       "    </tr>\n",
       "    <tr>\n",
       "      <th>19</th>\n",
       "      <td>132</td>\n",
       "      <td>62</td>\n",
       "    </tr>\n",
       "    <tr>\n",
       "      <th>20</th>\n",
       "      <td>104</td>\n",
       "      <td>40</td>\n",
       "    </tr>\n",
       "    <tr>\n",
       "      <th>21</th>\n",
       "      <td>116</td>\n",
       "      <td>38</td>\n",
       "    </tr>\n",
       "    <tr>\n",
       "      <th>22</th>\n",
       "      <td>73</td>\n",
       "      <td>28</td>\n",
       "    </tr>\n",
       "    <tr>\n",
       "      <th>23</th>\n",
       "      <td>27</td>\n",
       "      <td>5</td>\n",
       "    </tr>\n",
       "    <tr>\n",
       "      <th>24</th>\n",
       "      <td>13</td>\n",
       "      <td>4</td>\n",
       "    </tr>\n",
       "    <tr>\n",
       "      <th>25</th>\n",
       "      <td>4</td>\n",
       "      <td>0</td>\n",
       "    </tr>\n",
       "    <tr>\n",
       "      <th>26</th>\n",
       "      <td>4</td>\n",
       "      <td>0</td>\n",
       "    </tr>\n",
       "    <tr>\n",
       "      <th>27</th>\n",
       "      <td>1</td>\n",
       "      <td>0</td>\n",
       "    </tr>\n",
       "    <tr>\n",
       "      <th>28</th>\n",
       "      <td>0</td>\n",
       "      <td>1</td>\n",
       "    </tr>\n",
       "    <tr>\n",
       "      <th>30</th>\n",
       "      <td>1</td>\n",
       "      <td>0</td>\n",
       "    </tr>\n",
       "    <tr>\n",
       "      <th>31</th>\n",
       "      <td>1</td>\n",
       "      <td>1</td>\n",
       "    </tr>\n",
       "  </tbody>\n",
       "</table>\n",
       "</div>"
      ],
      "text/plain": [
       "depressiveness  False  True \n",
       "age                         \n",
       "18                 84     26\n",
       "19                132     62\n",
       "20                104     40\n",
       "21                116     38\n",
       "22                 73     28\n",
       "23                 27      5\n",
       "24                 13      4\n",
       "25                  4      0\n",
       "26                  4      0\n",
       "27                  1      0\n",
       "28                  0      1\n",
       "30                  1      0\n",
       "31                  1      1"
      ]
     },
     "execution_count": 23,
     "metadata": {},
     "output_type": "execute_result"
    }
   ],
   "source": [
    "pd.crosstab(df['age'], df['depressiveness'])"
   ]
  },
  {
   "cell_type": "code",
   "execution_count": 24,
   "id": "4c2fc9b2-8550-4558-bf94-c4c267661a65",
   "metadata": {},
   "outputs": [
    {
     "data": {
      "text/html": [
       "<div>\n",
       "<style scoped>\n",
       "    .dataframe tbody tr th:only-of-type {\n",
       "        vertical-align: middle;\n",
       "    }\n",
       "\n",
       "    .dataframe tbody tr th {\n",
       "        vertical-align: top;\n",
       "    }\n",
       "\n",
       "    .dataframe thead th {\n",
       "        text-align: right;\n",
       "    }\n",
       "</style>\n",
       "<table border=\"1\" class=\"dataframe\">\n",
       "  <thead>\n",
       "    <tr style=\"text-align: right;\">\n",
       "      <th></th>\n",
       "      <th>age</th>\n",
       "      <th>depressiveness</th>\n",
       "    </tr>\n",
       "  </thead>\n",
       "  <tbody>\n",
       "    <tr>\n",
       "      <th>age</th>\n",
       "      <td>1.000000</td>\n",
       "      <td>-0.037974</td>\n",
       "    </tr>\n",
       "    <tr>\n",
       "      <th>depressiveness</th>\n",
       "      <td>-0.037974</td>\n",
       "      <td>1.000000</td>\n",
       "    </tr>\n",
       "  </tbody>\n",
       "</table>\n",
       "</div>"
      ],
      "text/plain": [
       "                     age  depressiveness\n",
       "age             1.000000       -0.037974\n",
       "depressiveness -0.037974        1.000000"
      ]
     },
     "execution_count": 24,
     "metadata": {},
     "output_type": "execute_result"
    }
   ],
   "source": [
    "df[['age', 'depressiveness']].corr()"
   ]
  },
  {
   "cell_type": "code",
   "execution_count": 25,
   "id": "2b7606cd-6737-4db8-ab70-4327c7130209",
   "metadata": {},
   "outputs": [
    {
     "data": {
      "text/html": [
       "<div>\n",
       "<style scoped>\n",
       "    .dataframe tbody tr th:only-of-type {\n",
       "        vertical-align: middle;\n",
       "    }\n",
       "\n",
       "    .dataframe tbody tr th {\n",
       "        vertical-align: top;\n",
       "    }\n",
       "\n",
       "    .dataframe thead th {\n",
       "        text-align: right;\n",
       "    }\n",
       "</style>\n",
       "<table border=\"1\" class=\"dataframe\">\n",
       "  <thead>\n",
       "    <tr style=\"text-align: right;\">\n",
       "      <th></th>\n",
       "      <th>age</th>\n",
       "      <th>anxiousness</th>\n",
       "    </tr>\n",
       "  </thead>\n",
       "  <tbody>\n",
       "    <tr>\n",
       "      <th>age</th>\n",
       "      <td>1.000000</td>\n",
       "      <td>-0.071614</td>\n",
       "    </tr>\n",
       "    <tr>\n",
       "      <th>anxiousness</th>\n",
       "      <td>-0.071614</td>\n",
       "      <td>1.000000</td>\n",
       "    </tr>\n",
       "  </tbody>\n",
       "</table>\n",
       "</div>"
      ],
      "text/plain": [
       "                  age  anxiousness\n",
       "age          1.000000    -0.071614\n",
       "anxiousness -0.071614     1.000000"
      ]
     },
     "execution_count": 25,
     "metadata": {},
     "output_type": "execute_result"
    }
   ],
   "source": [
    "df[['age', 'anxiousness']].corr()"
   ]
  },
  {
   "cell_type": "code",
   "execution_count": 26,
   "id": "1694cb92-9e12-46fb-bc64-6a92f59817e2",
   "metadata": {},
   "outputs": [
    {
     "data": {
      "text/html": [
       "<div>\n",
       "<style scoped>\n",
       "    .dataframe tbody tr th:only-of-type {\n",
       "        vertical-align: middle;\n",
       "    }\n",
       "\n",
       "    .dataframe tbody tr th {\n",
       "        vertical-align: top;\n",
       "    }\n",
       "\n",
       "    .dataframe thead th {\n",
       "        text-align: right;\n",
       "    }\n",
       "</style>\n",
       "<table border=\"1\" class=\"dataframe\">\n",
       "  <thead>\n",
       "    <tr style=\"text-align: right;\">\n",
       "      <th></th>\n",
       "      <th>age</th>\n",
       "      <th>phq_score</th>\n",
       "      <th>gad_score</th>\n",
       "    </tr>\n",
       "  </thead>\n",
       "  <tbody>\n",
       "    <tr>\n",
       "      <th>count</th>\n",
       "      <td>205.000000</td>\n",
       "      <td>205.000000</td>\n",
       "      <td>205.000000</td>\n",
       "    </tr>\n",
       "    <tr>\n",
       "      <th>mean</th>\n",
       "      <td>20.146341</td>\n",
       "      <td>12.834146</td>\n",
       "      <td>11.043902</td>\n",
       "    </tr>\n",
       "    <tr>\n",
       "      <th>std</th>\n",
       "      <td>1.722984</td>\n",
       "      <td>3.690449</td>\n",
       "      <td>4.871186</td>\n",
       "    </tr>\n",
       "    <tr>\n",
       "      <th>min</th>\n",
       "      <td>18.000000</td>\n",
       "      <td>4.000000</td>\n",
       "      <td>0.000000</td>\n",
       "    </tr>\n",
       "    <tr>\n",
       "      <th>25%</th>\n",
       "      <td>19.000000</td>\n",
       "      <td>10.000000</td>\n",
       "      <td>7.000000</td>\n",
       "    </tr>\n",
       "    <tr>\n",
       "      <th>50%</th>\n",
       "      <td>20.000000</td>\n",
       "      <td>12.000000</td>\n",
       "      <td>11.000000</td>\n",
       "    </tr>\n",
       "    <tr>\n",
       "      <th>75%</th>\n",
       "      <td>21.000000</td>\n",
       "      <td>15.000000</td>\n",
       "      <td>15.000000</td>\n",
       "    </tr>\n",
       "    <tr>\n",
       "      <th>max</th>\n",
       "      <td>31.000000</td>\n",
       "      <td>24.000000</td>\n",
       "      <td>21.000000</td>\n",
       "    </tr>\n",
       "  </tbody>\n",
       "</table>\n",
       "</div>"
      ],
      "text/plain": [
       "              age   phq_score   gad_score\n",
       "count  205.000000  205.000000  205.000000\n",
       "mean    20.146341   12.834146   11.043902\n",
       "std      1.722984    3.690449    4.871186\n",
       "min     18.000000    4.000000    0.000000\n",
       "25%     19.000000   10.000000    7.000000\n",
       "50%     20.000000   12.000000   11.000000\n",
       "75%     21.000000   15.000000   15.000000\n",
       "max     31.000000   24.000000   21.000000"
      ]
     },
     "execution_count": 26,
     "metadata": {},
     "output_type": "execute_result"
    }
   ],
   "source": [
    "df[df['depressiveness'] == True].describe()"
   ]
  },
  {
   "cell_type": "code",
   "execution_count": 27,
   "id": "f706597a-d04d-4db5-a959-a22f19acc2b3",
   "metadata": {},
   "outputs": [
    {
     "data": {
      "text/html": [
       "<div>\n",
       "<style scoped>\n",
       "    .dataframe tbody tr th:only-of-type {\n",
       "        vertical-align: middle;\n",
       "    }\n",
       "\n",
       "    .dataframe tbody tr th {\n",
       "        vertical-align: top;\n",
       "    }\n",
       "\n",
       "    .dataframe thead th {\n",
       "        text-align: right;\n",
       "    }\n",
       "</style>\n",
       "<table border=\"1\" class=\"dataframe\">\n",
       "  <thead>\n",
       "    <tr style=\"text-align: right;\">\n",
       "      <th></th>\n",
       "      <th>age</th>\n",
       "      <th>phq_score</th>\n",
       "      <th>gad_score</th>\n",
       "    </tr>\n",
       "  </thead>\n",
       "  <tbody>\n",
       "    <tr>\n",
       "      <th>count</th>\n",
       "      <td>560.000000</td>\n",
       "      <td>560.000000</td>\n",
       "      <td>560.000000</td>\n",
       "    </tr>\n",
       "    <tr>\n",
       "      <th>mean</th>\n",
       "      <td>20.298214</td>\n",
       "      <td>5.092857</td>\n",
       "      <td>5.358929</td>\n",
       "    </tr>\n",
       "    <tr>\n",
       "      <th>std</th>\n",
       "      <td>1.790053</td>\n",
       "      <td>2.376529</td>\n",
       "      <td>3.639098</td>\n",
       "    </tr>\n",
       "    <tr>\n",
       "      <th>min</th>\n",
       "      <td>18.000000</td>\n",
       "      <td>0.000000</td>\n",
       "      <td>0.000000</td>\n",
       "    </tr>\n",
       "    <tr>\n",
       "      <th>25%</th>\n",
       "      <td>19.000000</td>\n",
       "      <td>3.000000</td>\n",
       "      <td>3.000000</td>\n",
       "    </tr>\n",
       "    <tr>\n",
       "      <th>50%</th>\n",
       "      <td>20.000000</td>\n",
       "      <td>5.000000</td>\n",
       "      <td>5.000000</td>\n",
       "    </tr>\n",
       "    <tr>\n",
       "      <th>75%</th>\n",
       "      <td>21.000000</td>\n",
       "      <td>7.000000</td>\n",
       "      <td>8.000000</td>\n",
       "    </tr>\n",
       "    <tr>\n",
       "      <th>max</th>\n",
       "      <td>31.000000</td>\n",
       "      <td>9.000000</td>\n",
       "      <td>18.000000</td>\n",
       "    </tr>\n",
       "  </tbody>\n",
       "</table>\n",
       "</div>"
      ],
      "text/plain": [
       "              age   phq_score   gad_score\n",
       "count  560.000000  560.000000  560.000000\n",
       "mean    20.298214    5.092857    5.358929\n",
       "std      1.790053    2.376529    3.639098\n",
       "min     18.000000    0.000000    0.000000\n",
       "25%     19.000000    3.000000    3.000000\n",
       "50%     20.000000    5.000000    5.000000\n",
       "75%     21.000000    7.000000    8.000000\n",
       "max     31.000000    9.000000   18.000000"
      ]
     },
     "execution_count": 27,
     "metadata": {},
     "output_type": "execute_result"
    }
   ],
   "source": [
    "df[df['depressiveness'] == False].describe()"
   ]
  },
  {
   "cell_type": "code",
   "execution_count": 28,
   "id": "73606566-7cfe-4321-b750-34f3a7458960",
   "metadata": {},
   "outputs": [
    {
     "data": {
      "text/plain": [
       "<Axes: xlabel='age', ylabel='count'>"
      ]
     },
     "execution_count": 28,
     "metadata": {},
     "output_type": "execute_result"
    },
    {
     "data": {
      "image/png": "[encoded data removed]",
      "text/plain": [
       "<Figure size 640x480 with 1 Axes>"
      ]
     },
     "metadata": {},
     "output_type": "display_data"
    }
   ],
   "source": [
    "sns.countplot(x='age', hue='anxiousness', data=df)"
   ]
  },
  {
   "cell_type": "code",
   "execution_count": 29,
   "id": "8b9974bc-eca0-4b75-9a4b-be1d981d992e",
   "metadata": {},
   "outputs": [
    {
     "data": {
      "text/plain": [
       "<Axes: xlabel='age', ylabel='count'>"
      ]
     },
     "execution_count": 29,
     "metadata": {},
     "output_type": "execute_result"
    },
    {
     "data": {
      "image/png": "[encoded data removed]",
      "text/plain": [
       "<Figure size 640x480 with 1 Axes>"
      ]
     },
     "metadata": {},
     "output_type": "display_data"
    }
   ],
   "source": [
    "sns.countplot(x='age', hue='sleepiness', data=df)"
   ]
  },
  {
   "cell_type": "code",
   "execution_count": 30,
   "id": "264c707f-fbff-41ba-9d6f-f7220f9eca35",
   "metadata": {},
   "outputs": [
    {
     "data": {
      "text/html": [
       "<div>\n",
       "<style scoped>\n",
       "    .dataframe tbody tr th:only-of-type {\n",
       "        vertical-align: middle;\n",
       "    }\n",
       "\n",
       "    .dataframe tbody tr th {\n",
       "        vertical-align: top;\n",
       "    }\n",
       "\n",
       "    .dataframe thead th {\n",
       "        text-align: right;\n",
       "    }\n",
       "</style>\n",
       "<table border=\"1\" class=\"dataframe\">\n",
       "  <thead>\n",
       "    <tr style=\"text-align: right;\">\n",
       "      <th>depression_diagnosis</th>\n",
       "      <th>False</th>\n",
       "      <th>True</th>\n",
       "    </tr>\n",
       "    <tr>\n",
       "      <th>depressiveness</th>\n",
       "      <th></th>\n",
       "      <th></th>\n",
       "    </tr>\n",
       "  </thead>\n",
       "  <tbody>\n",
       "    <tr>\n",
       "      <th>False</th>\n",
       "      <td>534</td>\n",
       "      <td>26</td>\n",
       "    </tr>\n",
       "    <tr>\n",
       "      <th>True</th>\n",
       "      <td>165</td>\n",
       "      <td>40</td>\n",
       "    </tr>\n",
       "  </tbody>\n",
       "</table>\n",
       "</div>"
      ],
      "text/plain": [
       "depression_diagnosis  False  True \n",
       "depressiveness                    \n",
       "False                   534     26\n",
       "True                    165     40"
      ]
     },
     "execution_count": 30,
     "metadata": {},
     "output_type": "execute_result"
    }
   ],
   "source": [
    "pd.crosstab(df['depressiveness'], df['depression_diagnosis'])"
   ]
  },
  {
   "cell_type": "code",
   "execution_count": 31,
   "id": "931c6d13-d661-4c25-befe-24eaad6795de",
   "metadata": {},
   "outputs": [
    {
     "data": {
      "text/html": [
       "<div>\n",
       "<style scoped>\n",
       "    .dataframe tbody tr th:only-of-type {\n",
       "        vertical-align: middle;\n",
       "    }\n",
       "\n",
       "    .dataframe tbody tr th {\n",
       "        vertical-align: top;\n",
       "    }\n",
       "\n",
       "    .dataframe thead th {\n",
       "        text-align: right;\n",
       "    }\n",
       "</style>\n",
       "<table border=\"1\" class=\"dataframe\">\n",
       "  <thead>\n",
       "    <tr style=\"text-align: right;\">\n",
       "      <th>depression_treatment</th>\n",
       "      <th>False</th>\n",
       "      <th>True</th>\n",
       "    </tr>\n",
       "    <tr>\n",
       "      <th>depressiveness</th>\n",
       "      <th></th>\n",
       "      <th></th>\n",
       "    </tr>\n",
       "  </thead>\n",
       "  <tbody>\n",
       "    <tr>\n",
       "      <th>False</th>\n",
       "      <td>533</td>\n",
       "      <td>27</td>\n",
       "    </tr>\n",
       "    <tr>\n",
       "      <th>True</th>\n",
       "      <td>175</td>\n",
       "      <td>30</td>\n",
       "    </tr>\n",
       "  </tbody>\n",
       "</table>\n",
       "</div>"
      ],
      "text/plain": [
       "depression_treatment  False  True \n",
       "depressiveness                    \n",
       "False                   533     27\n",
       "True                    175     30"
      ]
     },
     "execution_count": 31,
     "metadata": {},
     "output_type": "execute_result"
    }
   ],
   "source": [
    "pd.crosstab(df['depressiveness'], df['depression_treatment'])"
   ]
  },
  {
   "cell_type": "code",
   "execution_count": 32,
   "id": "ad2008f8-3b5f-49dc-a1ae-9acb5828821d",
   "metadata": {},
   "outputs": [
    {
     "data": {
      "text/html": [
       "<div>\n",
       "<style scoped>\n",
       "    .dataframe tbody tr th:only-of-type {\n",
       "        vertical-align: middle;\n",
       "    }\n",
       "\n",
       "    .dataframe tbody tr th {\n",
       "        vertical-align: top;\n",
       "    }\n",
       "\n",
       "    .dataframe thead th {\n",
       "        text-align: right;\n",
       "    }\n",
       "</style>\n",
       "<table border=\"1\" class=\"dataframe\">\n",
       "  <thead>\n",
       "    <tr style=\"text-align: right;\">\n",
       "      <th>sleepiness</th>\n",
       "      <th>False</th>\n",
       "      <th>True</th>\n",
       "    </tr>\n",
       "    <tr>\n",
       "      <th>depressiveness</th>\n",
       "      <th></th>\n",
       "      <th></th>\n",
       "    </tr>\n",
       "  </thead>\n",
       "  <tbody>\n",
       "    <tr>\n",
       "      <th>False</th>\n",
       "      <td>487</td>\n",
       "      <td>73</td>\n",
       "    </tr>\n",
       "    <tr>\n",
       "      <th>True</th>\n",
       "      <td>138</td>\n",
       "      <td>67</td>\n",
       "    </tr>\n",
       "  </tbody>\n",
       "</table>\n",
       "</div>"
      ],
      "text/plain": [
       "sleepiness      False  True \n",
       "depressiveness              \n",
       "False             487     73\n",
       "True              138     67"
      ]
     },
     "execution_count": 32,
     "metadata": {},
     "output_type": "execute_result"
    }
   ],
   "source": [
    "pd.crosstab(df['depressiveness'], df['sleepiness'])"
   ]
  },
  {
   "cell_type": "code",
   "execution_count": 33,
   "id": "12d84015-5ad6-4cf8-81ba-b28e03abc283",
   "metadata": {},
   "outputs": [
    {
     "data": {
      "text/html": [
       "<div>\n",
       "<style scoped>\n",
       "    .dataframe tbody tr th:only-of-type {\n",
       "        vertical-align: middle;\n",
       "    }\n",
       "\n",
       "    .dataframe tbody tr th {\n",
       "        vertical-align: top;\n",
       "    }\n",
       "\n",
       "    .dataframe thead th {\n",
       "        text-align: right;\n",
       "    }\n",
       "</style>\n",
       "<table border=\"1\" class=\"dataframe\">\n",
       "  <thead>\n",
       "    <tr style=\"text-align: right;\">\n",
       "      <th>suicidal</th>\n",
       "      <th>False</th>\n",
       "      <th>True</th>\n",
       "    </tr>\n",
       "    <tr>\n",
       "      <th>depressiveness</th>\n",
       "      <th></th>\n",
       "      <th></th>\n",
       "    </tr>\n",
       "  </thead>\n",
       "  <tbody>\n",
       "    <tr>\n",
       "      <th>False</th>\n",
       "      <td>560</td>\n",
       "      <td>0</td>\n",
       "    </tr>\n",
       "    <tr>\n",
       "      <th>True</th>\n",
       "      <td>140</td>\n",
       "      <td>65</td>\n",
       "    </tr>\n",
       "  </tbody>\n",
       "</table>\n",
       "</div>"
      ],
      "text/plain": [
       "suicidal        False  True \n",
       "depressiveness              \n",
       "False             560      0\n",
       "True              140     65"
      ]
     },
     "execution_count": 33,
     "metadata": {},
     "output_type": "execute_result"
    }
   ],
   "source": [
    "pd.crosstab(df['depressiveness'], df['suicidal'])"
   ]
  },
  {
   "cell_type": "code",
   "execution_count": 34,
   "id": "64648022-4c8f-448e-9a62-2111e1206ab6",
   "metadata": {},
   "outputs": [
    {
     "data": {
      "text/html": [
       "<div>\n",
       "<style scoped>\n",
       "    .dataframe tbody tr th:only-of-type {\n",
       "        vertical-align: middle;\n",
       "    }\n",
       "\n",
       "    .dataframe tbody tr th {\n",
       "        vertical-align: top;\n",
       "    }\n",
       "\n",
       "    .dataframe thead th {\n",
       "        text-align: right;\n",
       "    }\n",
       "</style>\n",
       "<table border=\"1\" class=\"dataframe\">\n",
       "  <thead>\n",
       "    <tr style=\"text-align: right;\">\n",
       "      <th>anxiety_diagnosis</th>\n",
       "      <th>False</th>\n",
       "      <th>True</th>\n",
       "    </tr>\n",
       "    <tr>\n",
       "      <th>anxiousness</th>\n",
       "      <th></th>\n",
       "      <th></th>\n",
       "    </tr>\n",
       "  </thead>\n",
       "  <tbody>\n",
       "    <tr>\n",
       "      <th>False</th>\n",
       "      <td>540</td>\n",
       "      <td>35</td>\n",
       "    </tr>\n",
       "    <tr>\n",
       "      <th>True</th>\n",
       "      <td>164</td>\n",
       "      <td>26</td>\n",
       "    </tr>\n",
       "  </tbody>\n",
       "</table>\n",
       "</div>"
      ],
      "text/plain": [
       "anxiety_diagnosis  False  True \n",
       "anxiousness                    \n",
       "False                540     35\n",
       "True                 164     26"
      ]
     },
     "execution_count": 34,
     "metadata": {},
     "output_type": "execute_result"
    }
   ],
   "source": [
    "pd.crosstab(df['anxiousness'], df['anxiety_diagnosis'])"
   ]
  },
  {
   "cell_type": "code",
   "execution_count": 35,
   "id": "0a545e65-81bc-4630-bf24-0d87440806cf",
   "metadata": {},
   "outputs": [
    {
     "data": {
      "text/html": [
       "<div>\n",
       "<style scoped>\n",
       "    .dataframe tbody tr th:only-of-type {\n",
       "        vertical-align: middle;\n",
       "    }\n",
       "\n",
       "    .dataframe tbody tr th {\n",
       "        vertical-align: top;\n",
       "    }\n",
       "\n",
       "    .dataframe thead th {\n",
       "        text-align: right;\n",
       "    }\n",
       "</style>\n",
       "<table border=\"1\" class=\"dataframe\">\n",
       "  <thead>\n",
       "    <tr style=\"text-align: right;\">\n",
       "      <th>anxiety_treatment</th>\n",
       "      <th>False</th>\n",
       "      <th>True</th>\n",
       "    </tr>\n",
       "    <tr>\n",
       "      <th>anxiousness</th>\n",
       "      <th></th>\n",
       "      <th></th>\n",
       "    </tr>\n",
       "  </thead>\n",
       "  <tbody>\n",
       "    <tr>\n",
       "      <th>False</th>\n",
       "      <td>539</td>\n",
       "      <td>36</td>\n",
       "    </tr>\n",
       "    <tr>\n",
       "      <th>True</th>\n",
       "      <td>167</td>\n",
       "      <td>23</td>\n",
       "    </tr>\n",
       "  </tbody>\n",
       "</table>\n",
       "</div>"
      ],
      "text/plain": [
       "anxiety_treatment  False  True \n",
       "anxiousness                    \n",
       "False                539     36\n",
       "True                 167     23"
      ]
     },
     "execution_count": 35,
     "metadata": {},
     "output_type": "execute_result"
    }
   ],
   "source": [
    "pd.crosstab(df['anxiousness'], df['anxiety_treatment'])"
   ]
  },
  {
   "cell_type": "code",
   "execution_count": 36,
   "id": "f399a6e0-bb4c-4f03-b00a-540840c9672c",
   "metadata": {},
   "outputs": [
    {
     "data": {
      "text/html": [
       "<div>\n",
       "<style scoped>\n",
       "    .dataframe tbody tr th:only-of-type {\n",
       "        vertical-align: middle;\n",
       "    }\n",
       "\n",
       "    .dataframe tbody tr th {\n",
       "        vertical-align: top;\n",
       "    }\n",
       "\n",
       "    .dataframe thead th {\n",
       "        text-align: right;\n",
       "    }\n",
       "</style>\n",
       "<table border=\"1\" class=\"dataframe\">\n",
       "  <thead>\n",
       "    <tr style=\"text-align: right;\">\n",
       "      <th>sleepiness</th>\n",
       "      <th>False</th>\n",
       "      <th>True</th>\n",
       "    </tr>\n",
       "    <tr>\n",
       "      <th>anxiousness</th>\n",
       "      <th></th>\n",
       "      <th></th>\n",
       "    </tr>\n",
       "  </thead>\n",
       "  <tbody>\n",
       "    <tr>\n",
       "      <th>False</th>\n",
       "      <td>499</td>\n",
       "      <td>76</td>\n",
       "    </tr>\n",
       "    <tr>\n",
       "      <th>True</th>\n",
       "      <td>126</td>\n",
       "      <td>64</td>\n",
       "    </tr>\n",
       "  </tbody>\n",
       "</table>\n",
       "</div>"
      ],
      "text/plain": [
       "sleepiness   False  True \n",
       "anxiousness              \n",
       "False          499     76\n",
       "True           126     64"
      ]
     },
     "execution_count": 36,
     "metadata": {},
     "output_type": "execute_result"
    }
   ],
   "source": [
    "pd.crosstab(df['anxiousness'], df['sleepiness'])"
   ]
  },
  {
   "cell_type": "code",
   "execution_count": 37,
   "id": "48be7e6d-b4da-4b0c-9267-6d9d16cc9b67",
   "metadata": {},
   "outputs": [
    {
     "data": {
      "text/html": [
       "<div>\n",
       "<style scoped>\n",
       "    .dataframe tbody tr th:only-of-type {\n",
       "        vertical-align: middle;\n",
       "    }\n",
       "\n",
       "    .dataframe tbody tr th {\n",
       "        vertical-align: top;\n",
       "    }\n",
       "\n",
       "    .dataframe thead th {\n",
       "        text-align: right;\n",
       "    }\n",
       "</style>\n",
       "<table border=\"1\" class=\"dataframe\">\n",
       "  <thead>\n",
       "    <tr style=\"text-align: right;\">\n",
       "      <th>suicidal</th>\n",
       "      <th>False</th>\n",
       "      <th>True</th>\n",
       "    </tr>\n",
       "    <tr>\n",
       "      <th>anxiousness</th>\n",
       "      <th></th>\n",
       "      <th></th>\n",
       "    </tr>\n",
       "  </thead>\n",
       "  <tbody>\n",
       "    <tr>\n",
       "      <th>False</th>\n",
       "      <td>551</td>\n",
       "      <td>24</td>\n",
       "    </tr>\n",
       "    <tr>\n",
       "      <th>True</th>\n",
       "      <td>149</td>\n",
       "      <td>41</td>\n",
       "    </tr>\n",
       "  </tbody>\n",
       "</table>\n",
       "</div>"
      ],
      "text/plain": [
       "suicidal     False  True \n",
       "anxiousness              \n",
       "False          551     24\n",
       "True           149     41"
      ]
     },
     "execution_count": 37,
     "metadata": {},
     "output_type": "execute_result"
    }
   ],
   "source": [
    "pd.crosstab(df['anxiousness'], df['suicidal'])"
   ]
  },
  {
   "cell_type": "code",
   "execution_count": 38,
   "id": "87b1f525-2a84-42d7-b7a7-6f45bec3ee96",
   "metadata": {},
   "outputs": [
    {
     "data": {
      "text/plain": [
       "<Axes: xlabel='gender', ylabel='count'>"
      ]
     },
     "execution_count": 38,
     "metadata": {},
     "output_type": "execute_result"
    },
    {
     "data": {
      "image/png": "[encoded data removed]",
      "text/plain": [
       "<Figure size 640x480 with 1 Axes>"
      ]
     },
     "metadata": {},
     "output_type": "display_data"
    }
   ],
   "source": [
    "sns.countplot(x='gender', hue='depression_severity', data=df)"
   ]
  },
  {
   "cell_type": "code",
   "execution_count": 39,
   "id": "caf794a0-0c75-44b7-97c4-a22d8f34f5fc",
   "metadata": {},
   "outputs": [
    {
     "data": {
      "text/plain": [
       "<Axes: xlabel='gender', ylabel='count'>"
      ]
     },
     "execution_count": 39,
     "metadata": {},
     "output_type": "execute_result"
    },
    {
     "data": {
      "image/png": "[encoded data removed]",
      "text/plain": [
       "<Figure size 640x480 with 1 Axes>"
      ]
     },
     "metadata": {},
     "output_type": "display_data"
    }
   ],
   "source": [
    "sns.countplot(x='gender', hue='anxiety_severity', data=df)"
   ]
  },
  {
   "cell_type": "code",
   "execution_count": 40,
   "id": "a69d335f-41f5-443a-b3e9-bc48385a568b",
   "metadata": {},
   "outputs": [
    {
     "data": {
      "text/plain": [
       "<Axes: xlabel='age', ylabel='count'>"
      ]
     },
     "execution_count": 40,
     "metadata": {},
     "output_type": "execute_result"
    },
    {
     "data": {
      "image/png": "[encoded data removed]",
      "text/plain": [
       "<Figure size 640x480 with 1 Axes>"
      ]
     },
     "metadata": {},
     "output_type": "display_data"
    }
   ],
   "source": [
    "sns.countplot(x='age', hue='depression_severity', data=df)"
   ]
  },
  {
   "cell_type": "code",
   "execution_count": 41,
   "id": "4e1334fb-f5ad-479e-bd49-1e32f2a400de",
   "metadata": {},
   "outputs": [
    {
     "data": {
      "text/plain": [
       "<Axes: xlabel='age', ylabel='count'>"
      ]
     },
     "execution_count": 41,
     "metadata": {},
     "output_type": "execute_result"
    },
    {
     "data": {
      "image/png": "[encoded data removed]",
      "text/plain": [
       "<Figure size 640x480 with 1 Axes>"
      ]
     },
     "metadata": {},
     "output_type": "display_data"
    }
   ],
   "source": [
    "sns.countplot(x='age', hue='anxiety_severity', data=df)"
   ]
  },
  {
   "cell_type": "code",
   "execution_count": 42,
   "id": "dcb52565-add0-4d12-bdd4-a4d40a253078",
   "metadata": {},
   "outputs": [
    {
     "data": {
      "text/html": [
       "<div>\n",
       "<style scoped>\n",
       "    .dataframe tbody tr th:only-of-type {\n",
       "        vertical-align: middle;\n",
       "    }\n",
       "\n",
       "    .dataframe tbody tr th {\n",
       "        vertical-align: top;\n",
       "    }\n",
       "\n",
       "    .dataframe thead th {\n",
       "        text-align: right;\n",
       "    }\n",
       "</style>\n",
       "<table border=\"1\" class=\"dataframe\">\n",
       "  <thead>\n",
       "    <tr style=\"text-align: right;\">\n",
       "      <th>depression_treatment</th>\n",
       "      <th>False</th>\n",
       "      <th>True</th>\n",
       "    </tr>\n",
       "    <tr>\n",
       "      <th>suicidal</th>\n",
       "      <th></th>\n",
       "      <th></th>\n",
       "    </tr>\n",
       "  </thead>\n",
       "  <tbody>\n",
       "    <tr>\n",
       "      <th>False</th>\n",
       "      <td>655</td>\n",
       "      <td>45</td>\n",
       "    </tr>\n",
       "    <tr>\n",
       "      <th>True</th>\n",
       "      <td>53</td>\n",
       "      <td>12</td>\n",
       "    </tr>\n",
       "  </tbody>\n",
       "</table>\n",
       "</div>"
      ],
      "text/plain": [
       "depression_treatment  False  True \n",
       "suicidal                          \n",
       "False                   655     45\n",
       "True                     53     12"
      ]
     },
     "execution_count": 42,
     "metadata": {},
     "output_type": "execute_result"
    }
   ],
   "source": [
    "pd.crosstab(df['suicidal'], df['depression_treatment'])"
   ]
  },
  {
   "cell_type": "code",
   "execution_count": 43,
   "id": "ab041a04-0a60-4f1e-96c9-b1b3e8ce53db",
   "metadata": {},
   "outputs": [
    {
     "data": {
      "text/plain": [
       "<Axes: >"
      ]
     },
     "execution_count": 43,
     "metadata": {},
     "output_type": "execute_result"
    },
    {
     "data": {
      "image/png": "[encoded data removed]",
      "text/plain": [
       "<Figure size 640x480 with 2 Axes>"
      ]
     },
     "metadata": {},
     "output_type": "display_data"
    }
   ],
   "source": [
    "correlation_data = df[['suicidal', 'depressiveness', 'anxiousness', 'sleepiness']] \n",
    "correlation_matrix = correlation_data.corr(method='spearman')\n",
    "sns.heatmap(correlation_matrix, annot=True, cmap='coolwarm', fmt=\".2f\", linewidths=.5)"
   ]
  },
  {
   "cell_type": "raw",
   "id": "34ad0b2a-61b6-4f78-ba17-098295474c45",
   "metadata": {},
   "source": [
    "Normalizing"
   ]
  },
  {
   "cell_type": "code",
   "execution_count": 44,
   "id": "522cddfe-6614-4bed-b818-0a949f7d3422",
   "metadata": {},
   "outputs": [],
   "source": [
    "bool_cols = ['depressiveness', 'suicidal', 'depression_diagnosis', 'depression_treatment', 'anxiousness', 'anxiety_diagnosis', 'anxiety_treatment', 'sleepiness']\n",
    "df[bool_cols] = df[bool_cols].astype(int)"
   ]
  },
  {
   "cell_type": "code",
   "execution_count": 45,
   "id": "9708c440-37ab-4764-ac6f-4e727c9b778b",
   "metadata": {},
   "outputs": [
    {
     "data": {
      "text/html": [
       "<div>\n",
       "<style scoped>\n",
       "    .dataframe tbody tr th:only-of-type {\n",
       "        vertical-align: middle;\n",
       "    }\n",
       "\n",
       "    .dataframe tbody tr th {\n",
       "        vertical-align: top;\n",
       "    }\n",
       "\n",
       "    .dataframe thead th {\n",
       "        text-align: right;\n",
       "    }\n",
       "</style>\n",
       "<table border=\"1\" class=\"dataframe\">\n",
       "  <thead>\n",
       "    <tr style=\"text-align: right;\">\n",
       "      <th></th>\n",
       "      <th>age</th>\n",
       "      <th>gender</th>\n",
       "      <th>who_bmi</th>\n",
       "      <th>phq_score</th>\n",
       "      <th>depression_severity</th>\n",
       "      <th>depressiveness</th>\n",
       "      <th>suicidal</th>\n",
       "      <th>depression_diagnosis</th>\n",
       "      <th>depression_treatment</th>\n",
       "      <th>gad_score</th>\n",
       "      <th>anxiety_severity</th>\n",
       "      <th>anxiousness</th>\n",
       "      <th>anxiety_diagnosis</th>\n",
       "      <th>anxiety_treatment</th>\n",
       "      <th>sleepiness</th>\n",
       "    </tr>\n",
       "  </thead>\n",
       "  <tbody>\n",
       "    <tr>\n",
       "      <th>0</th>\n",
       "      <td>19</td>\n",
       "      <td>male</td>\n",
       "      <td>Class I Obesity</td>\n",
       "      <td>9</td>\n",
       "      <td>Mild</td>\n",
       "      <td>0</td>\n",
       "      <td>0</td>\n",
       "      <td>0</td>\n",
       "      <td>0</td>\n",
       "      <td>11</td>\n",
       "      <td>Moderate</td>\n",
       "      <td>1</td>\n",
       "      <td>0</td>\n",
       "      <td>0</td>\n",
       "      <td>0</td>\n",
       "    </tr>\n",
       "    <tr>\n",
       "      <th>1</th>\n",
       "      <td>18</td>\n",
       "      <td>male</td>\n",
       "      <td>Normal</td>\n",
       "      <td>8</td>\n",
       "      <td>Mild</td>\n",
       "      <td>0</td>\n",
       "      <td>0</td>\n",
       "      <td>0</td>\n",
       "      <td>0</td>\n",
       "      <td>5</td>\n",
       "      <td>Mild</td>\n",
       "      <td>0</td>\n",
       "      <td>0</td>\n",
       "      <td>0</td>\n",
       "      <td>1</td>\n",
       "    </tr>\n",
       "    <tr>\n",
       "      <th>2</th>\n",
       "      <td>19</td>\n",
       "      <td>male</td>\n",
       "      <td>Overweight</td>\n",
       "      <td>8</td>\n",
       "      <td>Mild</td>\n",
       "      <td>0</td>\n",
       "      <td>0</td>\n",
       "      <td>0</td>\n",
       "      <td>0</td>\n",
       "      <td>6</td>\n",
       "      <td>Mild</td>\n",
       "      <td>0</td>\n",
       "      <td>0</td>\n",
       "      <td>0</td>\n",
       "      <td>0</td>\n",
       "    </tr>\n",
       "    <tr>\n",
       "      <th>3</th>\n",
       "      <td>18</td>\n",
       "      <td>female</td>\n",
       "      <td>Normal</td>\n",
       "      <td>19</td>\n",
       "      <td>Moderately severe</td>\n",
       "      <td>1</td>\n",
       "      <td>1</td>\n",
       "      <td>0</td>\n",
       "      <td>0</td>\n",
       "      <td>15</td>\n",
       "      <td>Severe</td>\n",
       "      <td>1</td>\n",
       "      <td>0</td>\n",
       "      <td>0</td>\n",
       "      <td>1</td>\n",
       "    </tr>\n",
       "    <tr>\n",
       "      <th>4</th>\n",
       "      <td>18</td>\n",
       "      <td>male</td>\n",
       "      <td>Overweight</td>\n",
       "      <td>6</td>\n",
       "      <td>Mild</td>\n",
       "      <td>0</td>\n",
       "      <td>0</td>\n",
       "      <td>0</td>\n",
       "      <td>0</td>\n",
       "      <td>14</td>\n",
       "      <td>Moderate</td>\n",
       "      <td>1</td>\n",
       "      <td>0</td>\n",
       "      <td>0</td>\n",
       "      <td>0</td>\n",
       "    </tr>\n",
       "  </tbody>\n",
       "</table>\n",
       "</div>"
      ],
      "text/plain": [
       "   age  gender          who_bmi  phq_score depression_severity  \\\n",
       "0   19    male  Class I Obesity          9                Mild   \n",
       "1   18    male           Normal          8                Mild   \n",
       "2   19    male       Overweight          8                Mild   \n",
       "3   18  female           Normal         19   Moderately severe   \n",
       "4   18    male       Overweight          6                Mild   \n",
       "\n",
       "   depressiveness  suicidal  depression_diagnosis  depression_treatment  \\\n",
       "0               0         0                     0                     0   \n",
       "1               0         0                     0                     0   \n",
       "2               0         0                     0                     0   \n",
       "3               1         1                     0                     0   \n",
       "4               0         0                     0                     0   \n",
       "\n",
       "   gad_score anxiety_severity  anxiousness  anxiety_diagnosis  \\\n",
       "0         11         Moderate            1                  0   \n",
       "1          5             Mild            0                  0   \n",
       "2          6             Mild            0                  0   \n",
       "3         15           Severe            1                  0   \n",
       "4         14         Moderate            1                  0   \n",
       "\n",
       "   anxiety_treatment  sleepiness  \n",
       "0                  0           0  \n",
       "1                  0           1  \n",
       "2                  0           0  \n",
       "3                  0           1  \n",
       "4                  0           0  "
      ]
     },
     "execution_count": 45,
     "metadata": {},
     "output_type": "execute_result"
    }
   ],
   "source": [
    "df.head()"
   ]
  },
  {
   "cell_type": "code",
   "execution_count": 46,
   "id": "2175eb5a-1315-4924-9506-75817b1b5d6f",
   "metadata": {},
   "outputs": [],
   "source": [
    "depression_map = {\n",
    "    'none': 0,\n",
    "    'None-minimal': 1,\n",
    "    'Mild': 2,\n",
    "    'Moderate': 3,\n",
    "    'Moderately severe': 4,\n",
    "    'Severe': 5\n",
    "}\n",
    "df['depression_severity'] = df['depression_severity'].map(depression_map)"
   ]
  },
  {
   "cell_type": "code",
   "execution_count": 47,
   "id": "bd8f0c82-4c45-4d21-badd-51c14609a601",
   "metadata": {},
   "outputs": [],
   "source": [
    "anxiety_map = {\n",
    "    'None-minimal': 0,\n",
    "    'Mild': 1,\n",
    "    'Moderate': 2,\n",
    "    'Severe': 3\n",
    "}\n",
    "df['anxiety_severity'] = df['anxiety_severity'].map(anxiety_map)"
   ]
  },
  {
   "cell_type": "code",
   "execution_count": 48,
   "id": "f1ea5449-e53e-48c3-b01a-e3f7215e4d70",
   "metadata": {},
   "outputs": [],
   "source": [
    "bmi_map = {\n",
    "    'Underweight':1,\n",
    "    'Normal':2, \n",
    "    'Overweight':3,\n",
    "    'Class I Obesity':4,\n",
    "    'Class II Obesity':5, \n",
    "    'Class III Obesity':6\n",
    "}\n",
    "df['who_bmi'] = df['who_bmi'].map(bmi_map)"
   ]
  },
  {
   "cell_type": "code",
   "execution_count": 49,
   "id": "8eab3106-2488-472b-bffc-fdb0a0fb636d",
   "metadata": {},
   "outputs": [],
   "source": [
    "df.gender = df.gender.map({\"male\":1, 'female':0})"
   ]
  },
  {
   "cell_type": "code",
   "execution_count": 50,
   "id": "83ea3bef-b1c7-4f73-9cae-9ba98643edb5",
   "metadata": {},
   "outputs": [
    {
     "data": {
      "text/html": [
       "<div>\n",
       "<style scoped>\n",
       "    .dataframe tbody tr th:only-of-type {\n",
       "        vertical-align: middle;\n",
       "    }\n",
       "\n",
       "    .dataframe tbody tr th {\n",
       "        vertical-align: top;\n",
       "    }\n",
       "\n",
       "    .dataframe thead th {\n",
       "        text-align: right;\n",
       "    }\n",
       "</style>\n",
       "<table border=\"1\" class=\"dataframe\">\n",
       "  <thead>\n",
       "    <tr style=\"text-align: right;\">\n",
       "      <th></th>\n",
       "      <th>age</th>\n",
       "      <th>gender</th>\n",
       "      <th>who_bmi</th>\n",
       "      <th>phq_score</th>\n",
       "      <th>depression_severity</th>\n",
       "      <th>depressiveness</th>\n",
       "      <th>suicidal</th>\n",
       "      <th>depression_diagnosis</th>\n",
       "      <th>depression_treatment</th>\n",
       "      <th>gad_score</th>\n",
       "      <th>anxiety_severity</th>\n",
       "      <th>anxiousness</th>\n",
       "      <th>anxiety_diagnosis</th>\n",
       "      <th>anxiety_treatment</th>\n",
       "      <th>sleepiness</th>\n",
       "    </tr>\n",
       "  </thead>\n",
       "  <tbody>\n",
       "    <tr>\n",
       "      <th>0</th>\n",
       "      <td>19</td>\n",
       "      <td>1</td>\n",
       "      <td>4</td>\n",
       "      <td>9</td>\n",
       "      <td>2</td>\n",
       "      <td>0</td>\n",
       "      <td>0</td>\n",
       "      <td>0</td>\n",
       "      <td>0</td>\n",
       "      <td>11</td>\n",
       "      <td>2</td>\n",
       "      <td>1</td>\n",
       "      <td>0</td>\n",
       "      <td>0</td>\n",
       "      <td>0</td>\n",
       "    </tr>\n",
       "    <tr>\n",
       "      <th>1</th>\n",
       "      <td>18</td>\n",
       "      <td>1</td>\n",
       "      <td>2</td>\n",
       "      <td>8</td>\n",
       "      <td>2</td>\n",
       "      <td>0</td>\n",
       "      <td>0</td>\n",
       "      <td>0</td>\n",
       "      <td>0</td>\n",
       "      <td>5</td>\n",
       "      <td>1</td>\n",
       "      <td>0</td>\n",
       "      <td>0</td>\n",
       "      <td>0</td>\n",
       "      <td>1</td>\n",
       "    </tr>\n",
       "    <tr>\n",
       "      <th>2</th>\n",
       "      <td>19</td>\n",
       "      <td>1</td>\n",
       "      <td>3</td>\n",
       "      <td>8</td>\n",
       "      <td>2</td>\n",
       "      <td>0</td>\n",
       "      <td>0</td>\n",
       "      <td>0</td>\n",
       "      <td>0</td>\n",
       "      <td>6</td>\n",
       "      <td>1</td>\n",
       "      <td>0</td>\n",
       "      <td>0</td>\n",
       "      <td>0</td>\n",
       "      <td>0</td>\n",
       "    </tr>\n",
       "    <tr>\n",
       "      <th>3</th>\n",
       "      <td>18</td>\n",
       "      <td>0</td>\n",
       "      <td>2</td>\n",
       "      <td>19</td>\n",
       "      <td>4</td>\n",
       "      <td>1</td>\n",
       "      <td>1</td>\n",
       "      <td>0</td>\n",
       "      <td>0</td>\n",
       "      <td>15</td>\n",
       "      <td>3</td>\n",
       "      <td>1</td>\n",
       "      <td>0</td>\n",
       "      <td>0</td>\n",
       "      <td>1</td>\n",
       "    </tr>\n",
       "    <tr>\n",
       "      <th>4</th>\n",
       "      <td>18</td>\n",
       "      <td>1</td>\n",
       "      <td>3</td>\n",
       "      <td>6</td>\n",
       "      <td>2</td>\n",
       "      <td>0</td>\n",
       "      <td>0</td>\n",
       "      <td>0</td>\n",
       "      <td>0</td>\n",
       "      <td>14</td>\n",
       "      <td>2</td>\n",
       "      <td>1</td>\n",
       "      <td>0</td>\n",
       "      <td>0</td>\n",
       "      <td>0</td>\n",
       "    </tr>\n",
       "  </tbody>\n",
       "</table>\n",
       "</div>"
      ],
      "text/plain": [
       "   age  gender  who_bmi  phq_score  depression_severity  depressiveness  \\\n",
       "0   19       1        4          9                    2               0   \n",
       "1   18       1        2          8                    2               0   \n",
       "2   19       1        3          8                    2               0   \n",
       "3   18       0        2         19                    4               1   \n",
       "4   18       1        3          6                    2               0   \n",
       "\n",
       "   suicidal  depression_diagnosis  depression_treatment  gad_score  \\\n",
       "0         0                     0                     0         11   \n",
       "1         0                     0                     0          5   \n",
       "2         0                     0                     0          6   \n",
       "3         1                     0                     0         15   \n",
       "4         0                     0                     0         14   \n",
       "\n",
       "   anxiety_severity  anxiousness  anxiety_diagnosis  anxiety_treatment  \\\n",
       "0                 2            1                  0                  0   \n",
       "1                 1            0                  0                  0   \n",
       "2                 1            0                  0                  0   \n",
       "3                 3            1                  0                  0   \n",
       "4                 2            1                  0                  0   \n",
       "\n",
       "   sleepiness  \n",
       "0           0  \n",
       "1           1  \n",
       "2           0  \n",
       "3           1  \n",
       "4           0  "
      ]
     },
     "execution_count": 50,
     "metadata": {},
     "output_type": "execute_result"
    }
   ],
   "source": [
    "df.head()"
   ]
  },
  {
   "cell_type": "code",
   "execution_count": 51,
   "id": "ea6cf222-ba04-4e5a-9c81-23ae40d9de59",
   "metadata": {},
   "outputs": [
    {
     "name": "stdout",
     "output_type": "stream",
     "text": [
      "<class 'pandas.core.frame.DataFrame'>\n",
      "Index: 765 entries, 0 to 782\n",
      "Data columns (total 15 columns):\n",
      " #   Column                Non-Null Count  Dtype\n",
      "---  ------                --------------  -----\n",
      " 0   age                   765 non-null    int64\n",
      " 1   gender                765 non-null    int64\n",
      " 2   who_bmi               765 non-null    int64\n",
      " 3   phq_score             765 non-null    int64\n",
      " 4   depression_severity   765 non-null    int64\n",
      " 5   depressiveness        765 non-null    int32\n",
      " 6   suicidal              765 non-null    int32\n",
      " 7   depression_diagnosis  765 non-null    int32\n",
      " 8   depression_treatment  765 non-null    int32\n",
      " 9   gad_score             765 non-null    int64\n",
      " 10  anxiety_severity      765 non-null    int64\n",
      " 11  anxiousness           765 non-null    int32\n",
      " 12  anxiety_diagnosis     765 non-null    int32\n",
      " 13  anxiety_treatment     765 non-null    int32\n",
      " 14  sleepiness            765 non-null    int32\n",
      "dtypes: int32(8), int64(7)\n",
      "memory usage: 71.7 KB\n"
     ]
    }
   ],
   "source": [
    "df.info()"
   ]
  },
  {
   "cell_type": "code",
   "execution_count": 52,
   "id": "b02ffab9-50a0-4465-8bef-c2fdaac16705",
   "metadata": {},
   "outputs": [
    {
     "data": {
      "image/png": "[encoded data removed]",
      "text/plain": [
       "<Figure size 1200x1000 with 2 Axes>"
      ]
     },
     "metadata": {},
     "output_type": "display_data"
    }
   ],
   "source": [
    "correlation_data = df[df.columns] \n",
    "correlation_matrix = correlation_data.corr(method='spearman')\n",
    "\n",
    "plt.figure(figsize=(12, 10))\n",
    "sns.heatmap(correlation_matrix, annot=True, cmap='coolwarm',  fmt=\".2f\")\n",
    "plt.title('Correlation Matrix')\n",
    "plt.show()"
   ]
  },
  {
   "cell_type": "code",
   "execution_count": 53,
   "id": "f06712cf-c1d6-459d-b245-db02d1dc5def",
   "metadata": {},
   "outputs": [],
   "source": [
    "from sklearn.model_selection import train_test_split, GridSearchCV\n",
    "from sklearn.preprocessing import StandardScaler, LabelEncoder\n",
    "from sklearn.ensemble import RandomForestClassifier\n",
    "from sklearn.linear_model import LogisticRegression\n",
    "import shap"
   ]
  },
  {
   "cell_type": "code",
   "execution_count": 54,
   "id": "b1f1fa6c-41f2-4fd3-984e-d8cd6935f77f",
   "metadata": {},
   "outputs": [
    {
     "name": "stdout",
     "output_type": "stream",
     "text": [
      "Depression Top 5 Features: Index(['phq_score', 'depressiveness', 'gad_score', 'age'], dtype='object')\n",
      "Anxiety Top 5 Features: Index(['gad_score', 'anxiousness', 'phq_score', 'depressiveness'], dtype='object')\n",
      "Selected Features: ['gad_score', 'age', 'anxiousness', 'phq_score', 'depressiveness']\n"
     ]
    }
   ],
   "source": [
    "y = df[['depression_severity', 'anxiety_severity']]\n",
    "X = df.drop(columns=['depression_severity', 'anxiety_severity'])\n",
    "\n",
    "label_encoders = {}\n",
    "for col in y.columns:\n",
    "    le = LabelEncoder()\n",
    "    y[col] = le.fit_transform(y[col])\n",
    "    label_encoders[col] = le  # Save encoder for later decoding\n",
    "\n",
    "# Feature selection using Random Forest for depression\n",
    "rf_selector1 = RandomForestClassifier(n_estimators=100, random_state=42)\n",
    "rf_selector1.fit(X, y['depression_severity'])\n",
    "\n",
    "# Get top 5 most important features for depression\n",
    "feature_importances1 = np.argsort(rf_selector1.feature_importances_)[-4:][::-1]\n",
    "top_features1 = X.columns[feature_importances1]\n",
    "print(\"Depression Top 5 Features:\", top_features1)\n",
    "\n",
    "\n",
    "# Feature selection using Random Forest for anxiety\n",
    "rf_selector2 = RandomForestClassifier(n_estimators=100, random_state=42)\n",
    "rf_selector2.fit(X, y['anxiety_severity'])\n",
    "\n",
    "# Get top 5 most important features for anxiety\n",
    "feature_importances2 = np.argsort(rf_selector2.feature_importances_)[-4:][::-1]\n",
    "top_features2 = X.columns[feature_importances2]\n",
    "print(\"Anxiety Top 5 Features:\", top_features2)\n",
    "\n",
    "# Combine top features from both models\n",
    "selected_features = list(set(top_features1).union(set(top_features2)))\n",
    "X_selected = X[selected_features]\n",
    "\n",
    "print(\"Selected Features:\", selected_features)"
   ]
  },
  {
   "cell_type": "code",
   "execution_count": 55,
   "id": "4481c73f-6184-4d44-b416-07b5b39b64fa",
   "metadata": {},
   "outputs": [],
   "source": [
    "# Remove rare classes (less than 2 samples per split)\n",
    "min_samples = 4  \n",
    "for col in y.columns:\n",
    "    value_counts = y[col].value_counts()\n",
    "    valid_classes = value_counts[value_counts >= min_samples].index\n",
    "    y = y[y[col].isin(valid_classes)]\n",
    "    X = X.loc[y.index]  # Ensure X matches y\n"
   ]
  },
  {
   "cell_type": "code",
   "execution_count": 56,
   "id": "c1601f2b-0411-4fe5-acca-117d8195a086",
   "metadata": {},
   "outputs": [
    {
     "name": "stdout",
     "output_type": "stream",
     "text": [
      "depression_severity\n",
      "2    339\n",
      "1    221\n",
      "3    136\n",
      "4     42\n",
      "0     15\n",
      "5     12\n",
      "Name: count, dtype: int64\n",
      "anxiety_severity\n",
      "1    293\n",
      "0    282\n",
      "2    124\n",
      "3     66\n",
      "Name: count, dtype: int64\n"
     ]
    }
   ],
   "source": [
    "print(y['depression_severity'].value_counts())\n",
    "print(y['anxiety_severity'].value_counts())"
   ]
  },
  {
   "cell_type": "code",
   "execution_count": 57,
   "id": "897e8923-4a93-4ad5-a2f4-ca165c1d3e1e",
   "metadata": {},
   "outputs": [],
   "source": [
    "# Split Data\n",
    "X_train, X_test, y_train, y_test = train_test_split(X_selected, y, test_size=0.2, random_state=42)\n",
    "scaler=StandardScaler()\n",
    "X_train = pd.DataFrame(scaler.fit_transform(X_train), columns=X_selected.columns)\n",
    "X_test = pd.DataFrame(scaler.transform(X_test), columns=X_selected.columns)\n",
    "\n"
   ]
  },
  {
   "cell_type": "code",
   "execution_count": null,
   "id": "fb750072-6253-4092-afc3-a45107ec07f8",
   "metadata": {},
   "outputs": [
    {
     "name": "stdout",
     "output_type": "stream",
     "text": [
      "Training Random Forest for depression_severity\n"
     ]
    }
   ],
   "source": [
    "from sklearn.metrics import make_scorer, f1_score\n",
    "models = {}\n",
    "for target in y.columns:\n",
    "    print(f\"Training Random Forest for {target}\")\n",
    "    \n",
    "    rf = RandomForestClassifier(n_estimators=100, random_state=42, class_weight=\"balanced\")\n",
    "    rf.fit(X_train, y_train[target])\n",
    "    \n",
    "    param_grid = {'n_estimators': [50, 100, 150],\n",
    "                  'max_depth': [None, 10, 20],\n",
    "                  'min_samples_split': [2, 5, 10]}\n",
    "    \n",
    "    scorer = make_scorer(f1_score, average='macro')\n",
    "    grid_search = GridSearchCV(rf, param_grid, cv=3, scoring=scorer, n_jobs=-1)\n",
    "    grid_search.fit(X_train, y_train[target])\n",
    "    \n",
    "    models[target] = grid_search.best_estimator_\n",
    "    print(f\"Best parameters for {target}: {grid_search.best_params_}\")"
   ]
  },
  {
   "cell_type": "code",
   "execution_count": null,
   "id": "7cc695cb-a409-4d8d-be04-20194f986f9d",
   "metadata": {},
   "outputs": [],
   "source": []
  },
  {
   "cell_type": "code",
   "execution_count": null,
   "id": "25b3663a-199e-4f18-9464-f881f8a1e8cb",
   "metadata": {},
   "outputs": [],
   "source": [
    "logistic_models = {}\n",
    "for target in y.columns:\n",
    "    print(f\"Training Logistic Regression for {target}\")\n",
    "    \n",
    "    lr = LogisticRegression(max_iter=1000, class_weight=\"balanced\")\n",
    "    lr.fit(X_train, y_train[target])\n",
    "    logistic_models[target] = lr"
   ]
  },
  {
   "cell_type": "code",
   "execution_count": null,
   "id": "b2f4cf2b-81c6-4a55-942d-6bc39ef34b58",
   "metadata": {},
   "outputs": [],
   "source": [
    "from sklearn.metrics import classification_report, accuracy_score, precision_score, recall_score, f1_score, roc_auc_score\n",
    "\n",
    "for target in y.columns:\n",
    "    rf_predictions = models[target].predict(X_test)\n",
    "    lr_predictions = logistic_models[target].predict(X_test)\n",
    "\n",
    "    print(f\"Random Forest Classification Report for {target}:\")\n",
    "    print(classification_report(y_test[target], rf_predictions))\n",
    "    rf_accuracy = accuracy_score(y_test[target], rf_predictions)\n",
    "    rf_precision = precision_score(y_test[target], rf_predictions, average='micro')\n",
    "    rf_recall = recall_score(y_test[target], rf_predictions, average='micro')\n",
    "    rf_f1 = f1_score(y_test[target], rf_predictions, average='micro')\n",
    "\n",
    "    # Handle potential errors for ROC-AUC\n",
    "    try:\n",
    "        rf_roc_auc = roc_auc_score(y_test[target], models[target].predict_proba(X_test)[:, 1], multi_class='ovr', average='weighted')\n",
    "    except ValueError:\n",
    "      rf_roc_auc = \"N/A (Only one class present)\"\n",
    "\n",
    "    print(f\"Random Forest Additional Metrics for {target}:\")\n",
    "    print(f\"Accuracy: {rf_accuracy}\")\n",
    "    print(f\"Precision: {rf_precision}\")\n",
    "    print(f\"Recall: {rf_recall}\")\n",
    "    print(f\"F1-score: {rf_f1}\")\n",
    "    print(f\"ROC-AUC: {rf_roc_auc}\")\n",
    "\n",
    "\n",
    "    print(f\"Logistic Regression Classification Report for {target}:\")\n",
    "    print(classification_report(y_test[target], lr_predictions))\n",
    "\n",
    "    # Calculate and print additional metrics for Logistic Regression\n",
    "    lr_accuracy = accuracy_score(y_test[target], lr_predictions)\n",
    "    lr_precision = precision_score(y_test[target], lr_predictions, average='micro')\n",
    "    lr_recall = recall_score(y_test[target], lr_predictions, average='micro')\n",
    "    lr_f1 = f1_score(y_test[target], lr_predictions, average='micro')\n",
    "\n",
    "    # Handle potential errors for ROC-AUC\n",
    "    try:\n",
    "        lr_roc_auc = roc_auc_score(y_test[target], logistic_models[target].predict_proba(X_test)[:, 1], multi_class='ovr', average='weighted')\n",
    "    except ValueError:\n",
    "      lr_roc_auc = \"N/A (Only one class present)\"\n",
    "\n",
    "    print(f\"Logistic Regression Additional Metrics for {target}:\")\n",
    "    print(f\"Accuracy: {lr_accuracy}\")\n",
    "    print(f\"Precision: {lr_precision}\")\n",
    "    print(f\"Recall: {lr_recall}\")\n",
    "    print(f\"F1-score: {lr_f1}\")\n",
    "    print(f\"ROC-AUC: {lr_roc_auc}\")"
   ]
  },
  {
   "cell_type": "code",
   "execution_count": null,
   "id": "75400565-217e-48ec-9a92-8175d898c18c",
   "metadata": {},
   "outputs": [],
   "source": [
    "from sklearn.model_selection import cross_val_score, StratifiedKFold\n",
    "\n",
    "cv = StratifiedKFold(n_splits=5, shuffle=True, random_state=42)\n",
    "\n",
    "rf_scores = cross_val_score(models['depression_severity'], X_train, y_train['depression_severity'], cv=cv, scoring='f1_weighted')\n",
    "print(f\"Cross-validation F1-scores (depression_severity): {rf_scores}\")\n",
    "print(f\"Mean CV F1-score (depression_severity): {rf_scores.mean()}\")\n",
    "rf_scores = cross_val_score(models['anxiety_severity'], X_train, y_train['anxiety_severity'], cv=cv, scoring='f1_weighted')\n",
    "print(f\"Cross-validation F1-scores (anxiety_severity): {rf_scores}\")\n",
    "print(f\"Mean CV F1-score (anxiety_severity): {rf_scores.mean()}\")"
   ]
  },
  {
   "cell_type": "code",
   "execution_count": null,
   "id": "f2ca3029-5bd1-40c9-ae56-b437a0e6ab39",
   "metadata": {},
   "outputs": [],
   "source": [
    "rf_depression = models['depression_severity']\n",
    "rf_anxiety = models['anxiety_severity']\n"
   ]
  },
  {
   "cell_type": "code",
   "execution_count": null,
   "id": "fc8caec7-6554-4265-aa58-558033fd509e",
   "metadata": {},
   "outputs": [],
   "source": [
    "from joblib import dump\n",
    "\n",
    "# Save Random Forest Models\n",
    "if rf_depression:\n",
    "    dump(rf_depression, 'rf_depression.joblib')  # Save with specific names\n",
    "if rf_anxiety:\n",
    "    dump(rf_anxiety, 'rf_anxiety.joblib')\n",
    "if scaler:\n",
    "    dump(scaler, 'scaler.joblib')"
   ]
  },
  {
   "cell_type": "code",
   "execution_count": null,
   "id": "fc0fbe35-8cdc-4fdb-ba08-c933b9fe741f",
   "metadata": {},
   "outputs": [],
   "source": [
    "import lime\n",
    "import lime.lime_tabular\n",
    "\n",
    "class_names_depression = ['None', 'None-minimal', 'Mild', 'Moderate', 'Moderately severe', 'Severe']\n",
    "\n",
    "class_names_anxiety = ['None-minimal', 'Mild', 'Moderate', 'Severe']\n",
    "\n",
    "explainer1 = lime.lime_tabular.LimeTabularExplainer(\n",
    "    X_train.values, \n",
    "    feature_names=X_train.columns.tolist(), \n",
    "    class_names=class_names_depression,\n",
    "    discretize_continuous=True\n",
    ")\n",
    "\n",
    "idx = 0  # Change this index to analyze different test samples\n",
    "sample = X_test.iloc[idx].values.reshape(1, -1)\n",
    "\n",
    "exp_dep = explainer1.explain_instance(sample[0], rf_depression.predict_proba, num_features=5)\n",
    "\n",
    "print(\"🔹 Depression Severity Explanation:\")\n",
    "print(exp_dep.as_list())\n",
    "\n",
    "exp_dep.show_in_notebook()"
   ]
  },
  {
   "cell_type": "code",
   "execution_count": null,
   "id": "fb121826-107e-4bde-90dc-13f288b6528a",
   "metadata": {},
   "outputs": [],
   "source": [
    "explainer2 = lime.lime_tabular.LimeTabularExplainer(\n",
    "    X_train.values, \n",
    "    feature_names=X_train.columns.tolist(), \n",
    "    class_names=class_names_anxiety,\n",
    "    discretize_continuous=True\n",
    ")\n",
    "\n",
    "idx = 2\n",
    "sample = X_test.iloc[idx].values.reshape(1, -1)\n",
    "exp_dep = explainer2.explain_instance(sample[0], rf_anxiety.predict_proba, num_features=5)\n",
    "print(\"🔹 Anxiety Severity Explanation:\")\n",
    "print(exp_dep.as_list())\n",
    "\n",
    "exp_dep.show_in_notebook()"
   ]
  }
 ],
 "metadata": {
  "kernelspec": {
   "display_name": "Python 3 (ipykernel)",
   "language": "python",
   "name": "python3"
  },
  "language_info": {
   "codemirror_mode": {
    "name": "ipython",
    "version": 3
   },
   "file_extension": ".py",
   "mimetype": "text/x-python",
   "name": "python",
   "nbconvert_exporter": "python",
   "pygments_lexer": "ipython3",
   "version": "3.11.8"
  }
 },
 "nbformat": 4,
 "nbformat_minor": 5
}
